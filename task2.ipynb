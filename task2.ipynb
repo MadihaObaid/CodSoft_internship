{
 "cells": [
  {
   "cell_type": "code",
   "execution_count": 323,
   "id": "de793e08-af0d-4aec-8ad1-1e4756c64925",
   "metadata": {},
   "outputs": [],
   "source": [
    "import numpy as np\n",
    "import pandas as pd\n",
    "import datetime as dt"
   ]
  },
  {
   "cell_type": "code",
   "execution_count": 324,
   "id": "eb42f86c-e0a4-46f7-b1c9-4e93361fd156",
   "metadata": {},
   "outputs": [],
   "source": [
    "movie_data = pd.read_csv(\"IMDbMoviesIndia.csv\",encoding='latin-1')"
   ]
  },
  {
   "cell_type": "code",
   "execution_count": 325,
   "id": "dd0a69c9-2e58-45f4-884c-7d67b68b3ebb",
   "metadata": {},
   "outputs": [
    {
     "data": {
      "text/html": [
       "<div>\n",
       "<style scoped>\n",
       "    .dataframe tbody tr th:only-of-type {\n",
       "        vertical-align: middle;\n",
       "    }\n",
       "\n",
       "    .dataframe tbody tr th {\n",
       "        vertical-align: top;\n",
       "    }\n",
       "\n",
       "    .dataframe thead th {\n",
       "        text-align: right;\n",
       "    }\n",
       "</style>\n",
       "<table border=\"1\" class=\"dataframe\">\n",
       "  <thead>\n",
       "    <tr style=\"text-align: right;\">\n",
       "      <th></th>\n",
       "      <th>Name</th>\n",
       "      <th>Year</th>\n",
       "      <th>Duration</th>\n",
       "      <th>Genre</th>\n",
       "      <th>Rating</th>\n",
       "      <th>Votes</th>\n",
       "      <th>Director</th>\n",
       "      <th>Actor 1</th>\n",
       "      <th>Actor 2</th>\n",
       "      <th>Actor 3</th>\n",
       "    </tr>\n",
       "  </thead>\n",
       "  <tbody>\n",
       "    <tr>\n",
       "      <th>0</th>\n",
       "      <td></td>\n",
       "      <td>NaN</td>\n",
       "      <td>NaN</td>\n",
       "      <td>Drama</td>\n",
       "      <td>NaN</td>\n",
       "      <td>NaN</td>\n",
       "      <td>J.S. Randhawa</td>\n",
       "      <td>Manmauji</td>\n",
       "      <td>Birbal</td>\n",
       "      <td>Rajendra Bhatia</td>\n",
       "    </tr>\n",
       "    <tr>\n",
       "      <th>1</th>\n",
       "      <td>#Gadhvi (He thought he was Gandhi)</td>\n",
       "      <td>(2019)</td>\n",
       "      <td>109 min</td>\n",
       "      <td>Drama</td>\n",
       "      <td>7.0</td>\n",
       "      <td>8</td>\n",
       "      <td>Gaurav Bakshi</td>\n",
       "      <td>Rasika Dugal</td>\n",
       "      <td>Vivek Ghamande</td>\n",
       "      <td>Arvind Jangid</td>\n",
       "    </tr>\n",
       "    <tr>\n",
       "      <th>2</th>\n",
       "      <td>#Homecoming</td>\n",
       "      <td>(2021)</td>\n",
       "      <td>90 min</td>\n",
       "      <td>Drama, Musical</td>\n",
       "      <td>NaN</td>\n",
       "      <td>NaN</td>\n",
       "      <td>Soumyajit Majumdar</td>\n",
       "      <td>Sayani Gupta</td>\n",
       "      <td>Plabita Borthakur</td>\n",
       "      <td>Roy Angana</td>\n",
       "    </tr>\n",
       "    <tr>\n",
       "      <th>3</th>\n",
       "      <td>#Yaaram</td>\n",
       "      <td>(2019)</td>\n",
       "      <td>110 min</td>\n",
       "      <td>Comedy, Romance</td>\n",
       "      <td>4.4</td>\n",
       "      <td>35</td>\n",
       "      <td>Ovais Khan</td>\n",
       "      <td>Prateik</td>\n",
       "      <td>Ishita Raj</td>\n",
       "      <td>Siddhant Kapoor</td>\n",
       "    </tr>\n",
       "    <tr>\n",
       "      <th>4</th>\n",
       "      <td>...And Once Again</td>\n",
       "      <td>(2010)</td>\n",
       "      <td>105 min</td>\n",
       "      <td>Drama</td>\n",
       "      <td>NaN</td>\n",
       "      <td>NaN</td>\n",
       "      <td>Amol Palekar</td>\n",
       "      <td>Rajat Kapoor</td>\n",
       "      <td>Rituparna Sengupta</td>\n",
       "      <td>Antara Mali</td>\n",
       "    </tr>\n",
       "  </tbody>\n",
       "</table>\n",
       "</div>"
      ],
      "text/plain": [
       "                                 Name    Year Duration            Genre  \\\n",
       "0                                         NaN      NaN            Drama   \n",
       "1  #Gadhvi (He thought he was Gandhi)  (2019)  109 min            Drama   \n",
       "2                         #Homecoming  (2021)   90 min   Drama, Musical   \n",
       "3                             #Yaaram  (2019)  110 min  Comedy, Romance   \n",
       "4                   ...And Once Again  (2010)  105 min            Drama   \n",
       "\n",
       "   Rating Votes            Director       Actor 1             Actor 2  \\\n",
       "0     NaN   NaN       J.S. Randhawa      Manmauji              Birbal   \n",
       "1     7.0     8       Gaurav Bakshi  Rasika Dugal      Vivek Ghamande   \n",
       "2     NaN   NaN  Soumyajit Majumdar  Sayani Gupta   Plabita Borthakur   \n",
       "3     4.4    35          Ovais Khan       Prateik          Ishita Raj   \n",
       "4     NaN   NaN        Amol Palekar  Rajat Kapoor  Rituparna Sengupta   \n",
       "\n",
       "           Actor 3  \n",
       "0  Rajendra Bhatia  \n",
       "1    Arvind Jangid  \n",
       "2       Roy Angana  \n",
       "3  Siddhant Kapoor  \n",
       "4      Antara Mali  "
      ]
     },
     "execution_count": 325,
     "metadata": {},
     "output_type": "execute_result"
    }
   ],
   "source": [
    "movie_data.head()"
   ]
  },
  {
   "cell_type": "markdown",
   "id": "e709fcd6-28d5-48a4-8ccc-6a0c9f357f36",
   "metadata": {},
   "source": [
    "## EDA & Data Engineering before we headover to train the model"
   ]
  },
  {
   "cell_type": "code",
   "execution_count": 326,
   "id": "f8fea67e-b310-4f8b-ab0e-a49d7d33f87d",
   "metadata": {},
   "outputs": [
    {
     "data": {
      "text/plain": [
       "Name           0\n",
       "Year         528\n",
       "Duration    8269\n",
       "Genre       1877\n",
       "Rating      7590\n",
       "Votes       7589\n",
       "Director     525\n",
       "Actor 1     1617\n",
       "Actor 2     2384\n",
       "Actor 3     3144\n",
       "dtype: int64"
      ]
     },
     "execution_count": 326,
     "metadata": {},
     "output_type": "execute_result"
    }
   ],
   "source": [
    "\n",
    "movie_data.isna().sum()"
   ]
  },
  {
   "cell_type": "code",
   "execution_count": 327,
   "id": "45c935b0-60cd-4bca-bca9-6294f2a0c3b9",
   "metadata": {},
   "outputs": [
    {
     "name": "stdout",
     "output_type": "stream",
     "text": [
      "<class 'pandas.core.frame.DataFrame'>\n",
      "RangeIndex: 15509 entries, 0 to 15508\n",
      "Data columns (total 10 columns):\n",
      " #   Column    Non-Null Count  Dtype  \n",
      "---  ------    --------------  -----  \n",
      " 0   Name      15509 non-null  object \n",
      " 1   Year      14981 non-null  object \n",
      " 2   Duration  7240 non-null   object \n",
      " 3   Genre     13632 non-null  object \n",
      " 4   Rating    7919 non-null   float64\n",
      " 5   Votes     7920 non-null   object \n",
      " 6   Director  14984 non-null  object \n",
      " 7   Actor 1   13892 non-null  object \n",
      " 8   Actor 2   13125 non-null  object \n",
      " 9   Actor 3   12365 non-null  object \n",
      "dtypes: float64(1), object(9)\n",
      "memory usage: 1.2+ MB\n"
     ]
    }
   ],
   "source": [
    "movie_data.info()"
   ]
  },
  {
   "cell_type": "code",
   "execution_count": 328,
   "id": "e56ff806-9fc7-41fe-a5e3-ebf8e4b7e866",
   "metadata": {},
   "outputs": [],
   "source": [
    "movie_final=movie_data.dropna()"
   ]
  },
  {
   "cell_type": "code",
   "execution_count": 329,
   "id": "d8eb24be-d9d7-4d38-96db-17bf8c925e4b",
   "metadata": {},
   "outputs": [
    {
     "data": {
      "text/plain": [
       "Name        0\n",
       "Year        0\n",
       "Duration    0\n",
       "Genre       0\n",
       "Rating      0\n",
       "Votes       0\n",
       "Director    0\n",
       "Actor 1     0\n",
       "Actor 2     0\n",
       "Actor 3     0\n",
       "dtype: int64"
      ]
     },
     "execution_count": 329,
     "metadata": {},
     "output_type": "execute_result"
    }
   ],
   "source": [
    "movie_final.isna().sum()"
   ]
  },
  {
   "cell_type": "code",
   "execution_count": 330,
   "id": "6562d2c1-1ec4-4fcb-908e-e13785acd5d9",
   "metadata": {},
   "outputs": [
    {
     "data": {
      "text/plain": [
       "array(['109 min', '110 min', '147 min', '142 min', '82 min', '116 min',\n",
       "       '96 min', '120 min', '161 min', '166 min', '102 min', '87 min',\n",
       "       '132 min', '105 min', '146 min', '168 min', '158 min', '126 min',\n",
       "       '94 min', '138 min', '124 min', '144 min', '157 min', '136 min',\n",
       "       '107 min', '113 min', '80 min', '122 min', '149 min', '148 min',\n",
       "       '130 min', '121 min', '188 min', '115 min', '103 min', '114 min',\n",
       "       '170 min', '100 min', '99 min', '140 min', '128 min', '93 min',\n",
       "       '125 min', '145 min', '75 min', '111 min', '134 min', '104 min',\n",
       "       '92 min', '137 min', '127 min', '119 min', '135 min', '90 min',\n",
       "       '150 min', '151 min', '95 min', '112 min', '143 min', '177 min',\n",
       "       '117 min', '123 min', '72 min', '154 min', '175 min', '153 min',\n",
       "       '78 min', '139 min', '133 min', '180 min', '46 min', '164 min',\n",
       "       '162 min', '171 min', '160 min', '152 min', '163 min', '165 min',\n",
       "       '141 min', '129 min', '156 min', '240 min', '172 min', '88 min',\n",
       "       '155 min', '167 min', '106 min', '193 min', '108 min', '195 min',\n",
       "       '174 min', '81 min', '178 min', '58 min', '184 min', '97 min',\n",
       "       '176 min', '169 min', '131 min', '77 min', '91 min', '86 min',\n",
       "       '84 min', '173 min', '118 min', '181 min', '300 min', '70 min',\n",
       "       '101 min', '79 min', '65 min', '48 min', '183 min', '159 min',\n",
       "       '83 min', '68 min', '89 min', '201 min', '64 min', '186 min',\n",
       "       '74 min', '85 min', '98 min', '49 min', '60 min', '207 min',\n",
       "       '76 min', '185 min', '59 min', '187 min', '216 min', '51 min',\n",
       "       '71 min', '45 min', '73 min', '57 min', '191 min', '321 min',\n",
       "       '199 min', '179 min', '47 min', '206 min', '63 min', '211 min',\n",
       "       '247 min', '56 min', '213 min', '210 min', '190 min', '223 min',\n",
       "       '189 min', '224 min', '202 min', '69 min', '255 min', '197 min',\n",
       "       '182 min', '66 min', '214 min', '208 min', '21 min', '200 min',\n",
       "       '192 min', '50 min', '54 min', '238 min', '62 min', '67 min',\n",
       "       '52 min', '204 min', '235 min', '217 min', '61 min', '250 min'],\n",
       "      dtype=object)"
      ]
     },
     "execution_count": 330,
     "metadata": {},
     "output_type": "execute_result"
    }
   ],
   "source": [
    "movie_final['Duration'].unique()"
   ]
  },
  {
   "cell_type": "code",
   "execution_count": 331,
   "id": "4e31a263-88f9-4c25-a722-44f75ffe201b",
   "metadata": {},
   "outputs": [],
   "source": [
    "import seaborn as sns"
   ]
  },
  {
   "cell_type": "code",
   "execution_count": 332,
   "id": "63c21d36-699a-4e56-9949-e2c3abc476a6",
   "metadata": {},
   "outputs": [
    {
     "data": {
      "text/plain": [
       "(5659, 10)"
      ]
     },
     "execution_count": 332,
     "metadata": {},
     "output_type": "execute_result"
    }
   ],
   "source": [
    "movie_final.shape"
   ]
  },
  {
   "cell_type": "code",
   "execution_count": 333,
   "id": "5fe88659-d6dc-41b6-83f4-d64228d1b28b",
   "metadata": {},
   "outputs": [
    {
     "name": "stdout",
     "output_type": "stream",
     "text": [
      "<class 'pandas.core.frame.DataFrame'>\n",
      "Index: 5659 entries, 1 to 15508\n",
      "Data columns (total 10 columns):\n",
      " #   Column    Non-Null Count  Dtype  \n",
      "---  ------    --------------  -----  \n",
      " 0   Name      5659 non-null   object \n",
      " 1   Year      5659 non-null   object \n",
      " 2   Duration  5659 non-null   object \n",
      " 3   Genre     5659 non-null   object \n",
      " 4   Rating    5659 non-null   float64\n",
      " 5   Votes     5659 non-null   object \n",
      " 6   Director  5659 non-null   object \n",
      " 7   Actor 1   5659 non-null   object \n",
      " 8   Actor 2   5659 non-null   object \n",
      " 9   Actor 3   5659 non-null   object \n",
      "dtypes: float64(1), object(9)\n",
      "memory usage: 486.3+ KB\n"
     ]
    }
   ],
   "source": [
    "movie_final.info()"
   ]
  },
  {
   "cell_type": "code",
   "execution_count": 334,
   "id": "b3c49ecb-1784-4310-98db-a5e9c86fd916",
   "metadata": {},
   "outputs": [
    {
     "data": {
      "text/html": [
       "<div>\n",
       "<style scoped>\n",
       "    .dataframe tbody tr th:only-of-type {\n",
       "        vertical-align: middle;\n",
       "    }\n",
       "\n",
       "    .dataframe tbody tr th {\n",
       "        vertical-align: top;\n",
       "    }\n",
       "\n",
       "    .dataframe thead th {\n",
       "        text-align: right;\n",
       "    }\n",
       "</style>\n",
       "<table border=\"1\" class=\"dataframe\">\n",
       "  <thead>\n",
       "    <tr style=\"text-align: right;\">\n",
       "      <th></th>\n",
       "      <th>Name</th>\n",
       "      <th>Year</th>\n",
       "      <th>Duration</th>\n",
       "      <th>Genre</th>\n",
       "      <th>Rating</th>\n",
       "      <th>Votes</th>\n",
       "      <th>Director</th>\n",
       "      <th>Actor 1</th>\n",
       "      <th>Actor 2</th>\n",
       "      <th>Actor 3</th>\n",
       "    </tr>\n",
       "  </thead>\n",
       "  <tbody>\n",
       "    <tr>\n",
       "      <th>count</th>\n",
       "      <td>5659</td>\n",
       "      <td>5659</td>\n",
       "      <td>5659</td>\n",
       "      <td>5659</td>\n",
       "      <td>5659.000000</td>\n",
       "      <td>5659</td>\n",
       "      <td>5659</td>\n",
       "      <td>5659</td>\n",
       "      <td>5659</td>\n",
       "      <td>5659</td>\n",
       "    </tr>\n",
       "    <tr>\n",
       "      <th>unique</th>\n",
       "      <td>5385</td>\n",
       "      <td>91</td>\n",
       "      <td>174</td>\n",
       "      <td>376</td>\n",
       "      <td>NaN</td>\n",
       "      <td>2027</td>\n",
       "      <td>2431</td>\n",
       "      <td>1960</td>\n",
       "      <td>2321</td>\n",
       "      <td>2556</td>\n",
       "    </tr>\n",
       "    <tr>\n",
       "      <th>top</th>\n",
       "      <td>Baazi</td>\n",
       "      <td>(2019)</td>\n",
       "      <td>120 min</td>\n",
       "      <td>Drama</td>\n",
       "      <td>NaN</td>\n",
       "      <td>7</td>\n",
       "      <td>David Dhawan</td>\n",
       "      <td>Amitabh Bachchan</td>\n",
       "      <td>Rekha</td>\n",
       "      <td>Pran</td>\n",
       "    </tr>\n",
       "    <tr>\n",
       "      <th>freq</th>\n",
       "      <td>4</td>\n",
       "      <td>227</td>\n",
       "      <td>169</td>\n",
       "      <td>844</td>\n",
       "      <td>NaN</td>\n",
       "      <td>90</td>\n",
       "      <td>41</td>\n",
       "      <td>104</td>\n",
       "      <td>52</td>\n",
       "      <td>57</td>\n",
       "    </tr>\n",
       "    <tr>\n",
       "      <th>mean</th>\n",
       "      <td>NaN</td>\n",
       "      <td>NaN</td>\n",
       "      <td>NaN</td>\n",
       "      <td>NaN</td>\n",
       "      <td>5.898533</td>\n",
       "      <td>NaN</td>\n",
       "      <td>NaN</td>\n",
       "      <td>NaN</td>\n",
       "      <td>NaN</td>\n",
       "      <td>NaN</td>\n",
       "    </tr>\n",
       "    <tr>\n",
       "      <th>std</th>\n",
       "      <td>NaN</td>\n",
       "      <td>NaN</td>\n",
       "      <td>NaN</td>\n",
       "      <td>NaN</td>\n",
       "      <td>1.381165</td>\n",
       "      <td>NaN</td>\n",
       "      <td>NaN</td>\n",
       "      <td>NaN</td>\n",
       "      <td>NaN</td>\n",
       "      <td>NaN</td>\n",
       "    </tr>\n",
       "    <tr>\n",
       "      <th>min</th>\n",
       "      <td>NaN</td>\n",
       "      <td>NaN</td>\n",
       "      <td>NaN</td>\n",
       "      <td>NaN</td>\n",
       "      <td>1.100000</td>\n",
       "      <td>NaN</td>\n",
       "      <td>NaN</td>\n",
       "      <td>NaN</td>\n",
       "      <td>NaN</td>\n",
       "      <td>NaN</td>\n",
       "    </tr>\n",
       "    <tr>\n",
       "      <th>25%</th>\n",
       "      <td>NaN</td>\n",
       "      <td>NaN</td>\n",
       "      <td>NaN</td>\n",
       "      <td>NaN</td>\n",
       "      <td>5.000000</td>\n",
       "      <td>NaN</td>\n",
       "      <td>NaN</td>\n",
       "      <td>NaN</td>\n",
       "      <td>NaN</td>\n",
       "      <td>NaN</td>\n",
       "    </tr>\n",
       "    <tr>\n",
       "      <th>50%</th>\n",
       "      <td>NaN</td>\n",
       "      <td>NaN</td>\n",
       "      <td>NaN</td>\n",
       "      <td>NaN</td>\n",
       "      <td>6.100000</td>\n",
       "      <td>NaN</td>\n",
       "      <td>NaN</td>\n",
       "      <td>NaN</td>\n",
       "      <td>NaN</td>\n",
       "      <td>NaN</td>\n",
       "    </tr>\n",
       "    <tr>\n",
       "      <th>75%</th>\n",
       "      <td>NaN</td>\n",
       "      <td>NaN</td>\n",
       "      <td>NaN</td>\n",
       "      <td>NaN</td>\n",
       "      <td>6.900000</td>\n",
       "      <td>NaN</td>\n",
       "      <td>NaN</td>\n",
       "      <td>NaN</td>\n",
       "      <td>NaN</td>\n",
       "      <td>NaN</td>\n",
       "    </tr>\n",
       "    <tr>\n",
       "      <th>max</th>\n",
       "      <td>NaN</td>\n",
       "      <td>NaN</td>\n",
       "      <td>NaN</td>\n",
       "      <td>NaN</td>\n",
       "      <td>10.000000</td>\n",
       "      <td>NaN</td>\n",
       "      <td>NaN</td>\n",
       "      <td>NaN</td>\n",
       "      <td>NaN</td>\n",
       "      <td>NaN</td>\n",
       "    </tr>\n",
       "  </tbody>\n",
       "</table>\n",
       "</div>"
      ],
      "text/plain": [
       "         Name    Year Duration  Genre       Rating Votes      Director  \\\n",
       "count    5659    5659     5659   5659  5659.000000  5659          5659   \n",
       "unique   5385      91      174    376          NaN  2027          2431   \n",
       "top     Baazi  (2019)  120 min  Drama          NaN     7  David Dhawan   \n",
       "freq        4     227      169    844          NaN    90            41   \n",
       "mean      NaN     NaN      NaN    NaN     5.898533   NaN           NaN   \n",
       "std       NaN     NaN      NaN    NaN     1.381165   NaN           NaN   \n",
       "min       NaN     NaN      NaN    NaN     1.100000   NaN           NaN   \n",
       "25%       NaN     NaN      NaN    NaN     5.000000   NaN           NaN   \n",
       "50%       NaN     NaN      NaN    NaN     6.100000   NaN           NaN   \n",
       "75%       NaN     NaN      NaN    NaN     6.900000   NaN           NaN   \n",
       "max       NaN     NaN      NaN    NaN    10.000000   NaN           NaN   \n",
       "\n",
       "                 Actor 1 Actor 2 Actor 3  \n",
       "count               5659    5659    5659  \n",
       "unique              1960    2321    2556  \n",
       "top     Amitabh Bachchan   Rekha    Pran  \n",
       "freq                 104      52      57  \n",
       "mean                 NaN     NaN     NaN  \n",
       "std                  NaN     NaN     NaN  \n",
       "min                  NaN     NaN     NaN  \n",
       "25%                  NaN     NaN     NaN  \n",
       "50%                  NaN     NaN     NaN  \n",
       "75%                  NaN     NaN     NaN  \n",
       "max                  NaN     NaN     NaN  "
      ]
     },
     "execution_count": 334,
     "metadata": {},
     "output_type": "execute_result"
    }
   ],
   "source": [
    "movie_final.describe(include='all')"
   ]
  },
  {
   "cell_type": "code",
   "execution_count": 335,
   "id": "06f85d42-a6a2-4ed6-81e8-4b61d9c255be",
   "metadata": {},
   "outputs": [
    {
     "name": "stderr",
     "output_type": "stream",
     "text": [
      "/var/folders/p9/k8f841h92px7yw5q25l36bj00000gn/T/ipykernel_15344/2739491484.py:1: SettingWithCopyWarning: \n",
      "A value is trying to be set on a copy of a slice from a DataFrame.\n",
      "Try using .loc[row_indexer,col_indexer] = value instead\n",
      "\n",
      "See the caveats in the documentation: https://pandas.pydata.org/pandas-docs/stable/user_guide/indexing.html#returning-a-view-versus-a-copy\n",
      "  movie_final['Duration'] = movie_final['Duration'].str.replace(\"min\",\"\").astype(int)\n"
     ]
    }
   ],
   "source": [
    "movie_final['Duration'] = movie_final['Duration'].str.replace(\"min\",\"\").astype(int)"
   ]
  },
  {
   "cell_type": "code",
   "execution_count": 336,
   "id": "c5efe87c-ade7-4773-b12d-3d922bfce62a",
   "metadata": {},
   "outputs": [
    {
     "data": {
      "text/plain": [
       "1        109\n",
       "3        110\n",
       "5        147\n",
       "6        142\n",
       "8         82\n",
       "        ... \n",
       "15493    115\n",
       "15494    153\n",
       "15503    125\n",
       "15505    129\n",
       "15508    130\n",
       "Name: Duration, Length: 5659, dtype: int64"
      ]
     },
     "execution_count": 336,
     "metadata": {},
     "output_type": "execute_result"
    }
   ],
   "source": [
    "movie_final['Duration']"
   ]
  },
  {
   "cell_type": "code",
   "execution_count": 337,
   "id": "ff7fe306-468a-4b70-bb39-5a34360c19f1",
   "metadata": {},
   "outputs": [
    {
     "name": "stderr",
     "output_type": "stream",
     "text": [
      "/var/folders/p9/k8f841h92px7yw5q25l36bj00000gn/T/ipykernel_15344/70414516.py:1: SettingWithCopyWarning: \n",
      "A value is trying to be set on a copy of a slice from a DataFrame.\n",
      "Try using .loc[row_indexer,col_indexer] = value instead\n",
      "\n",
      "See the caveats in the documentation: https://pandas.pydata.org/pandas-docs/stable/user_guide/indexing.html#returning-a-view-versus-a-copy\n",
      "  movie_final['Rating'] = movie_final['Rating'].astype(float)\n"
     ]
    }
   ],
   "source": [
    "movie_final['Rating'] = movie_final['Rating'].astype(float)"
   ]
  },
  {
   "cell_type": "code",
   "execution_count": 338,
   "id": "87d56373-742a-4ca3-96cf-9c23e46b2a3e",
   "metadata": {},
   "outputs": [
    {
     "data": {
      "text/plain": [
       "1        7.0\n",
       "3        4.4\n",
       "5        4.7\n",
       "6        7.4\n",
       "8        5.6\n",
       "        ... \n",
       "15493    6.1\n",
       "15494    6.2\n",
       "15503    5.8\n",
       "15505    4.5\n",
       "15508    6.2\n",
       "Name: Rating, Length: 5659, dtype: float64"
      ]
     },
     "execution_count": 338,
     "metadata": {},
     "output_type": "execute_result"
    }
   ],
   "source": [
    "movie_final['Rating']"
   ]
  },
  {
   "cell_type": "code",
   "execution_count": 339,
   "id": "12187a25-b0fc-4487-8c9b-413de108dbdb",
   "metadata": {},
   "outputs": [
    {
     "name": "stderr",
     "output_type": "stream",
     "text": [
      "/var/folders/p9/k8f841h92px7yw5q25l36bj00000gn/T/ipykernel_15344/3037043676.py:1: SettingWithCopyWarning: \n",
      "A value is trying to be set on a copy of a slice from a DataFrame.\n",
      "Try using .loc[row_indexer,col_indexer] = value instead\n",
      "\n",
      "See the caveats in the documentation: https://pandas.pydata.org/pandas-docs/stable/user_guide/indexing.html#returning-a-view-versus-a-copy\n",
      "  movie_final['Votes'] = movie_final['Votes'].str.replace(\",\",\"\").astype(int)\n"
     ]
    }
   ],
   "source": [
    "movie_final['Votes'] = movie_final['Votes'].str.replace(\",\",\"\").astype(int)"
   ]
  },
  {
   "cell_type": "code",
   "execution_count": 340,
   "id": "1cb23b74-ba9f-4c67-a4eb-92136ea8cf23",
   "metadata": {},
   "outputs": [
    {
     "data": {
      "text/plain": [
       "1           8\n",
       "3          35\n",
       "5         827\n",
       "6        1086\n",
       "8         326\n",
       "         ... \n",
       "15493     408\n",
       "15494    1496\n",
       "15503      44\n",
       "15505     655\n",
       "15508      20\n",
       "Name: Votes, Length: 5659, dtype: int64"
      ]
     },
     "execution_count": 340,
     "metadata": {},
     "output_type": "execute_result"
    }
   ],
   "source": [
    "movie_final['Votes'] "
   ]
  },
  {
   "cell_type": "code",
   "execution_count": 341,
   "id": "0490ce96-d3ad-4383-a978-d37d70bd8d62",
   "metadata": {},
   "outputs": [
    {
     "name": "stdout",
     "output_type": "stream",
     "text": [
      "<class 'pandas.core.frame.DataFrame'>\n",
      "Index: 5659 entries, 1 to 15508\n",
      "Data columns (total 10 columns):\n",
      " #   Column    Non-Null Count  Dtype  \n",
      "---  ------    --------------  -----  \n",
      " 0   Name      5659 non-null   object \n",
      " 1   Year      5659 non-null   object \n",
      " 2   Duration  5659 non-null   int64  \n",
      " 3   Genre     5659 non-null   object \n",
      " 4   Rating    5659 non-null   float64\n",
      " 5   Votes     5659 non-null   int64  \n",
      " 6   Director  5659 non-null   object \n",
      " 7   Actor 1   5659 non-null   object \n",
      " 8   Actor 2   5659 non-null   object \n",
      " 9   Actor 3   5659 non-null   object \n",
      "dtypes: float64(1), int64(2), object(7)\n",
      "memory usage: 486.3+ KB\n"
     ]
    }
   ],
   "source": [
    "movie_final.info()"
   ]
  },
  {
   "cell_type": "code",
   "execution_count": 342,
   "id": "0086f7d5-7e4a-4a30-ae06-0f5ae5250ed7",
   "metadata": {},
   "outputs": [
    {
     "name": "stderr",
     "output_type": "stream",
     "text": [
      "/var/folders/p9/k8f841h92px7yw5q25l36bj00000gn/T/ipykernel_15344/489140943.py:1: SettingWithCopyWarning: \n",
      "A value is trying to be set on a copy of a slice from a DataFrame.\n",
      "Try using .loc[row_indexer,col_indexer] = value instead\n",
      "\n",
      "See the caveats in the documentation: https://pandas.pydata.org/pandas-docs/stable/user_guide/indexing.html#returning-a-view-versus-a-copy\n",
      "  movie_final['Year']=movie_final['Year'].str.replace(\"(\",\"\").str.replace(')','')\n"
     ]
    }
   ],
   "source": [
    "movie_final['Year']=movie_final['Year'].str.replace(\"(\",\"\").str.replace(')','')\n"
   ]
  },
  {
   "cell_type": "code",
   "execution_count": 343,
   "id": "409aec6e-8822-4f07-825d-73bbb89fa28a",
   "metadata": {},
   "outputs": [
    {
     "name": "stderr",
     "output_type": "stream",
     "text": [
      "/var/folders/p9/k8f841h92px7yw5q25l36bj00000gn/T/ipykernel_15344/3265906884.py:1: SettingWithCopyWarning: \n",
      "A value is trying to be set on a copy of a slice from a DataFrame.\n",
      "Try using .loc[row_indexer,col_indexer] = value instead\n",
      "\n",
      "See the caveats in the documentation: https://pandas.pydata.org/pandas-docs/stable/user_guide/indexing.html#returning-a-view-versus-a-copy\n",
      "  movie_final['Year']= pd.to_datetime(movie_final.Year,format='%Y').dt.year\n"
     ]
    }
   ],
   "source": [
    "movie_final['Year']= pd.to_datetime(movie_final.Year,format='%Y').dt.year"
   ]
  },
  {
   "cell_type": "code",
   "execution_count": 344,
   "id": "60f2abad-37dd-43e3-8a20-f2c17717275b",
   "metadata": {},
   "outputs": [
    {
     "data": {
      "text/plain": [
       "array([2019, 1997, 2005, 2012, 2014, 2004, 2016, 1991, 2018, 2010, 1958,\n",
       "       2021, 2017, 2009, 1993, 2002, 2008, 1994, 2007, 2003, 1998, 1979,\n",
       "       1974, 2015, 2006, 1981, 2020, 1985, 2013, 2011, 1988, 1987, 1999,\n",
       "       1973, 1968, 1982, 1977, 1950, 1969, 1948, 1990, 1989, 2001, 2000,\n",
       "       1953, 1978, 1963, 1992, 1976, 1984, 1986, 1966, 1975, 1980, 1967,\n",
       "       1970, 1952, 1972, 1971, 1964, 1954, 1962, 1957, 1965, 1996, 1995,\n",
       "       1956, 1955, 1936, 1983, 1951, 1961, 1959, 1949, 1960, 1946, 1940,\n",
       "       1945, 1938, 1941, 1942, 1935, 1937, 1947, 1931, 1933, 1943, 1944,\n",
       "       1932, 1939, 1934], dtype=int32)"
      ]
     },
     "execution_count": 344,
     "metadata": {},
     "output_type": "execute_result"
    }
   ],
   "source": [
    "movie_final['Year'].unique()"
   ]
  },
  {
   "cell_type": "code",
   "execution_count": 345,
   "id": "4637c8f3-c1f7-491b-896b-73f260250f72",
   "metadata": {},
   "outputs": [],
   "source": [
    "import matplotlib as plt"
   ]
  },
  {
   "cell_type": "code",
   "execution_count": 346,
   "id": "f85da32f-a6ed-4e9a-aebe-3c2f02e29572",
   "metadata": {},
   "outputs": [
    {
     "name": "stdout",
     "output_type": "stream",
     "text": [
      "<class 'pandas.core.frame.DataFrame'>\n",
      "Index: 5659 entries, 1 to 15508\n",
      "Data columns (total 10 columns):\n",
      " #   Column    Non-Null Count  Dtype  \n",
      "---  ------    --------------  -----  \n",
      " 0   Name      5659 non-null   object \n",
      " 1   Year      5659 non-null   int32  \n",
      " 2   Duration  5659 non-null   int64  \n",
      " 3   Genre     5659 non-null   object \n",
      " 4   Rating    5659 non-null   float64\n",
      " 5   Votes     5659 non-null   int64  \n",
      " 6   Director  5659 non-null   object \n",
      " 7   Actor 1   5659 non-null   object \n",
      " 8   Actor 2   5659 non-null   object \n",
      " 9   Actor 3   5659 non-null   object \n",
      "dtypes: float64(1), int32(1), int64(2), object(6)\n",
      "memory usage: 464.2+ KB\n"
     ]
    }
   ],
   "source": [
    "movie_final.info()"
   ]
  },
  {
   "cell_type": "code",
   "execution_count": 347,
   "id": "9b49e3f0-6007-4a38-b8a6-673c05cb0be5",
   "metadata": {},
   "outputs": [
    {
     "data": {
      "text/plain": [
       "Director\n",
       "Saif Ali Sayeed     10.0\n",
       "Sriram Raja          9.7\n",
       "Munni Pankaj         9.4\n",
       "Suhrud Godbole       9.4\n",
       "Arvind Pratap        9.4\n",
       "                    ... \n",
       "Navin Batra          1.9\n",
       "Raajeev Walia        1.8\n",
       "Stanley D'Costa      1.8\n",
       "Pramod Mandloi       1.7\n",
       "Sachindra Sharma     1.6\n",
       "Name: Rating, Length: 2431, dtype: float64"
      ]
     },
     "execution_count": 347,
     "metadata": {},
     "output_type": "execute_result"
    }
   ],
   "source": [
    "movie_final.groupby('Director')['Rating'].mean().sort_values(ascending=False)"
   ]
  },
  {
   "cell_type": "code",
   "execution_count": 348,
   "id": "8fc24fd3-dc28-4a48-be2e-e5996cebb44c",
   "metadata": {},
   "outputs": [
    {
     "data": {
      "text/plain": [
       "<Axes: xlabel='Year', ylabel='Votes'>"
      ]
     },
     "execution_count": 348,
     "metadata": {},
     "output_type": "execute_result"
    },
    {
     "data": {
      "image/png": "[encoded data removed]",
      "text/plain": [
       "<Figure size 640x480 with 1 Axes>"
      ]
     },
     "metadata": {},
     "output_type": "display_data"
    }
   ],
   "source": [
    "sns.lineplot(x = \"Year\", y = \"Votes\", \n",
    "             data = movie_final) \n",
    "  "
   ]
  },
  {
   "cell_type": "code",
   "execution_count": 349,
   "id": "ec674340-f87f-49f5-a986-56f77b7c2c20",
   "metadata": {},
   "outputs": [
    {
     "data": {
      "text/html": [
       "<div>\n",
       "<style scoped>\n",
       "    .dataframe tbody tr th:only-of-type {\n",
       "        vertical-align: middle;\n",
       "    }\n",
       "\n",
       "    .dataframe tbody tr th {\n",
       "        vertical-align: top;\n",
       "    }\n",
       "\n",
       "    .dataframe thead th {\n",
       "        text-align: right;\n",
       "    }\n",
       "</style>\n",
       "<table border=\"1\" class=\"dataframe\">\n",
       "  <thead>\n",
       "    <tr style=\"text-align: right;\">\n",
       "      <th></th>\n",
       "      <th>Name</th>\n",
       "      <th>Duration</th>\n",
       "    </tr>\n",
       "  </thead>\n",
       "  <tbody>\n",
       "    <tr>\n",
       "      <th>4902</th>\n",
       "      <td>Gangs of Wasseypur</td>\n",
       "      <td>321</td>\n",
       "    </tr>\n",
       "    <tr>\n",
       "      <th>1345</th>\n",
       "      <td>Athidhi</td>\n",
       "      <td>300</td>\n",
       "    </tr>\n",
       "    <tr>\n",
       "      <th>8251</th>\n",
       "      <td>LOC: Kargil</td>\n",
       "      <td>255</td>\n",
       "    </tr>\n",
       "    <tr>\n",
       "      <th>14854</th>\n",
       "      <td>Vidhyaarthi: The Power of Students</td>\n",
       "      <td>250</td>\n",
       "    </tr>\n",
       "    <tr>\n",
       "      <th>6553</th>\n",
       "      <td>Janwar</td>\n",
       "      <td>247</td>\n",
       "    </tr>\n",
       "    <tr>\n",
       "      <th>490</th>\n",
       "      <td>Aasma: The Sky Is the Limit</td>\n",
       "      <td>240</td>\n",
       "    </tr>\n",
       "    <tr>\n",
       "      <th>14809</th>\n",
       "      <td>Veera</td>\n",
       "      <td>240</td>\n",
       "    </tr>\n",
       "    <tr>\n",
       "      <th>14938</th>\n",
       "      <td>Vivekananda</td>\n",
       "      <td>240</td>\n",
       "    </tr>\n",
       "    <tr>\n",
       "      <th>12365</th>\n",
       "      <td>Sangam</td>\n",
       "      <td>238</td>\n",
       "    </tr>\n",
       "    <tr>\n",
       "      <th>13713</th>\n",
       "      <td>Taj Mahal: A Monument of Love</td>\n",
       "      <td>235</td>\n",
       "    </tr>\n",
       "  </tbody>\n",
       "</table>\n",
       "</div>"
      ],
      "text/plain": [
       "                                     Name  Duration\n",
       "4902                   Gangs of Wasseypur       321\n",
       "1345                              Athidhi       300\n",
       "8251                          LOC: Kargil       255\n",
       "14854  Vidhyaarthi: The Power of Students       250\n",
       "6553                               Janwar       247\n",
       "490           Aasma: The Sky Is the Limit       240\n",
       "14809                               Veera       240\n",
       "14938                         Vivekananda       240\n",
       "12365                              Sangam       238\n",
       "13713       Taj Mahal: A Monument of Love       235"
      ]
     },
     "execution_count": 349,
     "metadata": {},
     "output_type": "execute_result"
    }
   ],
   "source": [
    "movie_final.nlargest(10, 'Duration')[['Name', 'Duration']]"
   ]
  },
  {
   "cell_type": "code",
   "execution_count": 350,
   "id": "4bc120c5-7305-419f-830d-cb1b3d3ce0dc",
   "metadata": {},
   "outputs": [
    {
     "data": {
      "text/html": [
       "<div>\n",
       "<style scoped>\n",
       "    .dataframe tbody tr th:only-of-type {\n",
       "        vertical-align: middle;\n",
       "    }\n",
       "\n",
       "    .dataframe tbody tr th {\n",
       "        vertical-align: top;\n",
       "    }\n",
       "\n",
       "    .dataframe thead th {\n",
       "        text-align: right;\n",
       "    }\n",
       "</style>\n",
       "<table border=\"1\" class=\"dataframe\">\n",
       "  <thead>\n",
       "    <tr style=\"text-align: right;\">\n",
       "      <th></th>\n",
       "      <th>Name</th>\n",
       "      <th>Votes</th>\n",
       "    </tr>\n",
       "  </thead>\n",
       "  <tbody>\n",
       "    <tr>\n",
       "      <th>8219</th>\n",
       "      <td>Life of Pi</td>\n",
       "      <td>591417</td>\n",
       "    </tr>\n",
       "    <tr>\n",
       "      <th>75</th>\n",
       "      <td>3 Idiots</td>\n",
       "      <td>357889</td>\n",
       "    </tr>\n",
       "    <tr>\n",
       "      <th>8233</th>\n",
       "      <td>Lion</td>\n",
       "      <td>220526</td>\n",
       "    </tr>\n",
       "    <tr>\n",
       "      <th>4848</th>\n",
       "      <td>Gandhi</td>\n",
       "      <td>220118</td>\n",
       "    </tr>\n",
       "    <tr>\n",
       "      <th>14038</th>\n",
       "      <td>The Darjeeling Limited</td>\n",
       "      <td>185127</td>\n",
       "    </tr>\n",
       "    <tr>\n",
       "      <th>8228</th>\n",
       "      <td>Like Stars on Earth</td>\n",
       "      <td>175810</td>\n",
       "    </tr>\n",
       "    <tr>\n",
       "      <th>10882</th>\n",
       "      <td>PK</td>\n",
       "      <td>168150</td>\n",
       "    </tr>\n",
       "    <tr>\n",
       "      <th>3410</th>\n",
       "      <td>Dangal</td>\n",
       "      <td>165074</td>\n",
       "    </tr>\n",
       "    <tr>\n",
       "      <th>11463</th>\n",
       "      <td>Radhe</td>\n",
       "      <td>162455</td>\n",
       "    </tr>\n",
       "    <tr>\n",
       "      <th>3829</th>\n",
       "      <td>Dil Bechara</td>\n",
       "      <td>117377</td>\n",
       "    </tr>\n",
       "  </tbody>\n",
       "</table>\n",
       "</div>"
      ],
      "text/plain": [
       "                         Name   Votes\n",
       "8219               Life of Pi  591417\n",
       "75                   3 Idiots  357889\n",
       "8233                     Lion  220526\n",
       "4848                   Gandhi  220118\n",
       "14038  The Darjeeling Limited  185127\n",
       "8228      Like Stars on Earth  175810\n",
       "10882                      PK  168150\n",
       "3410                   Dangal  165074\n",
       "11463                   Radhe  162455\n",
       "3829              Dil Bechara  117377"
      ]
     },
     "execution_count": 350,
     "metadata": {},
     "output_type": "execute_result"
    }
   ],
   "source": [
    "movie_final.nlargest(10, 'Votes')[['Name', 'Votes']]"
   ]
  },
  {
   "cell_type": "code",
   "execution_count": 351,
   "id": "5dba0b10-f297-4c69-a494-c3c460bcf240",
   "metadata": {},
   "outputs": [
    {
     "data": {
      "text/plain": [
       "Year\n",
       "2019    227\n",
       "2017    211\n",
       "2018    202\n",
       "2015    177\n",
       "2016    173\n",
       "       ... \n",
       "1931      2\n",
       "1939      2\n",
       "1934      2\n",
       "1933      1\n",
       "1932      1\n",
       "Name: count, Length: 91, dtype: int64"
      ]
     },
     "execution_count": 351,
     "metadata": {},
     "output_type": "execute_result"
    }
   ],
   "source": [
    "movie_final.Year.value_counts()"
   ]
  },
  {
   "cell_type": "code",
   "execution_count": 352,
   "id": "3a0be55a-a227-4cd8-b4d3-e1c30f0e6bec",
   "metadata": {},
   "outputs": [
    {
     "data": {
      "text/html": [
       "<div>\n",
       "<style scoped>\n",
       "    .dataframe tbody tr th:only-of-type {\n",
       "        vertical-align: middle;\n",
       "    }\n",
       "\n",
       "    .dataframe tbody tr th {\n",
       "        vertical-align: top;\n",
       "    }\n",
       "\n",
       "    .dataframe thead th {\n",
       "        text-align: right;\n",
       "    }\n",
       "</style>\n",
       "<table border=\"1\" class=\"dataframe\">\n",
       "  <thead>\n",
       "    <tr style=\"text-align: right;\">\n",
       "      <th></th>\n",
       "      <th>Name</th>\n",
       "      <th>Rating</th>\n",
       "    </tr>\n",
       "  </thead>\n",
       "  <tbody>\n",
       "    <tr>\n",
       "      <th>8339</th>\n",
       "      <td>Love Qubool Hai</td>\n",
       "      <td>10.0</td>\n",
       "    </tr>\n",
       "    <tr>\n",
       "      <th>5410</th>\n",
       "      <td>Half Songs</td>\n",
       "      <td>9.7</td>\n",
       "    </tr>\n",
       "    <tr>\n",
       "      <th>5077</th>\n",
       "      <td>Gho Gho Rani</td>\n",
       "      <td>9.4</td>\n",
       "    </tr>\n",
       "    <tr>\n",
       "      <th>6852</th>\n",
       "      <td>June</td>\n",
       "      <td>9.4</td>\n",
       "    </tr>\n",
       "    <tr>\n",
       "      <th>14222</th>\n",
       "      <td>The Reluctant Crime</td>\n",
       "      <td>9.4</td>\n",
       "    </tr>\n",
       "    <tr>\n",
       "      <th>1314</th>\n",
       "      <td>Ashok Vatika</td>\n",
       "      <td>9.3</td>\n",
       "    </tr>\n",
       "    <tr>\n",
       "      <th>1729</th>\n",
       "      <td>Baikunth</td>\n",
       "      <td>9.3</td>\n",
       "    </tr>\n",
       "    <tr>\n",
       "      <th>5125</th>\n",
       "      <td>God of gods</td>\n",
       "      <td>9.3</td>\n",
       "    </tr>\n",
       "    <tr>\n",
       "      <th>8344</th>\n",
       "      <td>Love Sorries</td>\n",
       "      <td>9.3</td>\n",
       "    </tr>\n",
       "    <tr>\n",
       "      <th>11843</th>\n",
       "      <td>Refl3ct</td>\n",
       "      <td>9.3</td>\n",
       "    </tr>\n",
       "  </tbody>\n",
       "</table>\n",
       "</div>"
      ],
      "text/plain": [
       "                      Name  Rating\n",
       "8339       Love Qubool Hai    10.0\n",
       "5410            Half Songs     9.7\n",
       "5077          Gho Gho Rani     9.4\n",
       "6852                  June     9.4\n",
       "14222  The Reluctant Crime     9.4\n",
       "1314          Ashok Vatika     9.3\n",
       "1729              Baikunth     9.3\n",
       "5125           God of gods     9.3\n",
       "8344          Love Sorries     9.3\n",
       "11843              Refl3ct     9.3"
      ]
     },
     "execution_count": 352,
     "metadata": {},
     "output_type": "execute_result"
    }
   ],
   "source": [
    "movie_final.nlargest(10, 'Rating')[['Name', 'Rating']]"
   ]
  },
  {
   "cell_type": "code",
   "execution_count": 353,
   "id": "1fad2de9-4051-4690-a05c-90f8ce4057a4",
   "metadata": {},
   "outputs": [
    {
     "data": {
      "text/plain": [
       "Genre\n",
       "Drama                              844\n",
       "Drama, Romance                     332\n",
       "Action, Crime, Drama               329\n",
       "Action, Drama                      206\n",
       "Comedy, Drama                      205\n",
       "                                  ... \n",
       "Comedy, Crime, Musical               1\n",
       "History, Romance                     1\n",
       "Drama, History, Sport                1\n",
       "Animation, Comedy, Drama             1\n",
       "Documentary, Biography, Musical      1\n",
       "Name: count, Length: 376, dtype: int64"
      ]
     },
     "execution_count": 353,
     "metadata": {},
     "output_type": "execute_result"
    }
   ],
   "source": [
    "movie_final['Genre'].value_counts()"
   ]
  },
  {
   "cell_type": "code",
   "execution_count": 354,
   "id": "44f490c4-3c39-4bd7-b92f-f092d2f0f18b",
   "metadata": {},
   "outputs": [
    {
     "data": {
      "text/plain": [
       "Director\n",
       "David Dhawan            41\n",
       "Mahesh Bhatt            39\n",
       "Ram Gopal Varma         33\n",
       "Hrishikesh Mukherjee    33\n",
       "Shakti Samanta          33\n",
       "                        ..\n",
       "Sriram Raja              1\n",
       "Randeep Jha              1\n",
       "Vicky Bhardwaj           1\n",
       "Salar Shaikh             1\n",
       "Mozez Singh              1\n",
       "Name: count, Length: 2431, dtype: int64"
      ]
     },
     "execution_count": 354,
     "metadata": {},
     "output_type": "execute_result"
    }
   ],
   "source": [
    "movie_final['Director'].value_counts()"
   ]
  },
  {
   "cell_type": "code",
   "execution_count": 355,
   "id": "fba42faa-c502-4568-93d4-76e15fbf716a",
   "metadata": {},
   "outputs": [
    {
     "data": {
      "text/plain": [
       "Actor 1\n",
       "Amitabh Bachchan      104\n",
       "Mithun Chakraborty     93\n",
       "Ashok Kumar            91\n",
       "Dharmendra             90\n",
       "Jeetendra              89\n",
       "                     ... \n",
       "Murad Ali               1\n",
       "Amarjeet                1\n",
       "Rinku Jaiswal           1\n",
       "Usha Kiran              1\n",
       "Darsheel Safary         1\n",
       "Name: count, Length: 1960, dtype: int64"
      ]
     },
     "execution_count": 355,
     "metadata": {},
     "output_type": "execute_result"
    }
   ],
   "source": [
    "movie_final['Actor 1'].value_counts()"
   ]
  },
  {
   "cell_type": "code",
   "execution_count": 356,
   "id": "e796b326-ff48-402d-bed8-89c7740a20b5",
   "metadata": {},
   "outputs": [
    {
     "data": {
      "text/plain": [
       "Actor 2\n",
       "Rekha                 52\n",
       "Hema Malini           48\n",
       "Mithun Chakraborty    38\n",
       "Dharmendra            38\n",
       "Akshay Kumar          34\n",
       "                      ..\n",
       "Sanjana Tiwari         1\n",
       "Divya Chouksey         1\n",
       "Suchendra Prasad       1\n",
       "Sid Makkar             1\n",
       "Jayamalini             1\n",
       "Name: count, Length: 2321, dtype: int64"
      ]
     },
     "execution_count": 356,
     "metadata": {},
     "output_type": "execute_result"
    }
   ],
   "source": [
    "movie_final['Actor 2'].value_counts()"
   ]
  },
  {
   "cell_type": "code",
   "execution_count": 357,
   "id": "fa343eb9-3c01-47ee-817b-083b8024bd2f",
   "metadata": {},
   "outputs": [
    {
     "data": {
      "text/plain": [
       "Actor 3\n",
       "Pran                  57\n",
       "Anupam Kher           51\n",
       "Prem Chopra           32\n",
       "Paresh Rawal          30\n",
       "Mithun Chakraborty    29\n",
       "                      ..\n",
       "Benyamin Bahadori      1\n",
       "Makarand Anaspure      1\n",
       "Shloka Pandit          1\n",
       "Anandee Tripathi       1\n",
       "Shatakshi Gupta        1\n",
       "Name: count, Length: 2556, dtype: int64"
      ]
     },
     "execution_count": 357,
     "metadata": {},
     "output_type": "execute_result"
    }
   ],
   "source": [
    "movie_final['Actor 3'].value_counts()"
   ]
  },
  {
   "cell_type": "code",
   "execution_count": 358,
   "id": "5dc010bd-a40c-4ced-9f12-ea3ce588897b",
   "metadata": {},
   "outputs": [
    {
     "name": "stderr",
     "output_type": "stream",
     "text": [
      "/var/folders/p9/k8f841h92px7yw5q25l36bj00000gn/T/ipykernel_15344/3533383767.py:7: UserWarning: \n",
      "\n",
      "`distplot` is a deprecated function and will be removed in seaborn v0.14.0.\n",
      "\n",
      "Please adapt your code to use either `displot` (a figure-level function with\n",
      "similar flexibility) or `histplot` (an axes-level function for histograms).\n",
      "\n",
      "For a guide to updating your code to use the new functions, please see\n",
      "https://gist.github.com/mwaskom/de44147ed2974457ad6372750bbe5751\n",
      "\n",
      "  sns.distplot(movie_final['Year'],color='g')\n",
      "/var/folders/p9/k8f841h92px7yw5q25l36bj00000gn/T/ipykernel_15344/3533383767.py:10: UserWarning: \n",
      "\n",
      "`distplot` is a deprecated function and will be removed in seaborn v0.14.0.\n",
      "\n",
      "Please adapt your code to use either `displot` (a figure-level function with\n",
      "similar flexibility) or `histplot` (an axes-level function for histograms).\n",
      "\n",
      "For a guide to updating your code to use the new functions, please see\n",
      "https://gist.github.com/mwaskom/de44147ed2974457ad6372750bbe5751\n",
      "\n",
      "  sns.distplot(movie_final['Rating'],color='g')\n"
     ]
    },
    {
     "data": {
      "image/png": "[encoded data removed]",
      "text/plain": [
       "<Figure size 1400x700 with 4 Axes>"
      ]
     },
     "metadata": {},
     "output_type": "display_data"
    }
   ],
   "source": [
    "import matplotlib.pyplot as plt\n",
    "plt.figure(figsize=(14,7))\n",
    "plt.subplot(2,2,1)\n",
    "sns.boxplot(x='Votes',data=movie_final)\n",
    "\n",
    "plt.subplot(2,2,2)\n",
    "sns.distplot(movie_final['Year'],color='g')\n",
    "\n",
    "plt.subplot(2,2,3)\n",
    "sns.distplot(movie_final['Rating'],color='g')\n",
    "\n",
    "plt.subplot(2,2,4)\n",
    "sns.scatterplot(x=movie_final['Duration'], y=movie_final['Rating'], data=movie_final)\n",
    "\n",
    "plt.tight_layout()\n",
    "plt.show()"
   ]
  },
  {
   "cell_type": "markdown",
   "id": "979006b7-9f9d-45c6-8c95-2dfcd6f3b487",
   "metadata": {},
   "source": [
    "# Now we will take first genre only as main genre as there is a list of genres for each movie because one movie may fall under multiple genre"
   ]
  },
  {
   "cell_type": "code",
   "execution_count": 359,
   "id": "2352a52a-6f5d-43d5-a669-67332e6329a7",
   "metadata": {},
   "outputs": [
    {
     "name": "stderr",
     "output_type": "stream",
     "text": [
      "/var/folders/p9/k8f841h92px7yw5q25l36bj00000gn/T/ipykernel_15344/891294195.py:1: SettingWithCopyWarning: \n",
      "A value is trying to be set on a copy of a slice from a DataFrame.\n",
      "Try using .loc[row_indexer,col_indexer] = value instead\n",
      "\n",
      "See the caveats in the documentation: https://pandas.pydata.org/pandas-docs/stable/user_guide/indexing.html#returning-a-view-versus-a-copy\n",
      "  movie_final['main_genre']=movie_final['Genre'].apply(lambda x: x.split(',')[0] if ',' in x else x)\n"
     ]
    }
   ],
   "source": [
    "movie_final['main_genre']=movie_final['Genre'].apply(lambda x: x.split(',')[0] if ',' in x else x)"
   ]
  },
  {
   "cell_type": "code",
   "execution_count": 360,
   "id": "4b3c23bb-f833-49d8-8486-e33afacf91e2",
   "metadata": {},
   "outputs": [
    {
     "data": {
      "text/html": [
       "<div>\n",
       "<style scoped>\n",
       "    .dataframe tbody tr th:only-of-type {\n",
       "        vertical-align: middle;\n",
       "    }\n",
       "\n",
       "    .dataframe tbody tr th {\n",
       "        vertical-align: top;\n",
       "    }\n",
       "\n",
       "    .dataframe thead th {\n",
       "        text-align: right;\n",
       "    }\n",
       "</style>\n",
       "<table border=\"1\" class=\"dataframe\">\n",
       "  <thead>\n",
       "    <tr style=\"text-align: right;\">\n",
       "      <th></th>\n",
       "      <th>Name</th>\n",
       "      <th>Year</th>\n",
       "      <th>Duration</th>\n",
       "      <th>Genre</th>\n",
       "      <th>Rating</th>\n",
       "      <th>Votes</th>\n",
       "      <th>Director</th>\n",
       "      <th>Actor 1</th>\n",
       "      <th>Actor 2</th>\n",
       "      <th>Actor 3</th>\n",
       "      <th>main_genre</th>\n",
       "    </tr>\n",
       "  </thead>\n",
       "  <tbody>\n",
       "    <tr>\n",
       "      <th>10179</th>\n",
       "      <td>Night Club</td>\n",
       "      <td>1958</td>\n",
       "      <td>137</td>\n",
       "      <td>Crime, Drama</td>\n",
       "      <td>6.2</td>\n",
       "      <td>5</td>\n",
       "      <td>Naresh Saigal</td>\n",
       "      <td>Ashok Kumar</td>\n",
       "      <td>Kamini Kaushal</td>\n",
       "      <td>Mubarak</td>\n",
       "      <td>Crime</td>\n",
       "    </tr>\n",
       "    <tr>\n",
       "      <th>11004</th>\n",
       "      <td>Prem</td>\n",
       "      <td>1995</td>\n",
       "      <td>167</td>\n",
       "      <td>Action, Drama, Romance</td>\n",
       "      <td>4.1</td>\n",
       "      <td>220</td>\n",
       "      <td>Satish Kaushik</td>\n",
       "      <td>Sanjay Kapoor</td>\n",
       "      <td>Tabu</td>\n",
       "      <td>Deepak Tijori</td>\n",
       "      <td>Action</td>\n",
       "    </tr>\n",
       "  </tbody>\n",
       "</table>\n",
       "</div>"
      ],
      "text/plain": [
       "             Name  Year  Duration                   Genre  Rating  Votes  \\\n",
       "10179  Night Club  1958       137            Crime, Drama     6.2      5   \n",
       "11004        Prem  1995       167  Action, Drama, Romance     4.1    220   \n",
       "\n",
       "             Director        Actor 1         Actor 2        Actor 3 main_genre  \n",
       "10179   Naresh Saigal    Ashok Kumar  Kamini Kaushal        Mubarak      Crime  \n",
       "11004  Satish Kaushik  Sanjay Kapoor            Tabu  Deepak Tijori     Action  "
      ]
     },
     "execution_count": 360,
     "metadata": {},
     "output_type": "execute_result"
    }
   ],
   "source": [
    "movie_final.sample(2)"
   ]
  },
  {
   "cell_type": "code",
   "execution_count": 361,
   "id": "3c99e95f-cd05-452b-bdce-86528d38915e",
   "metadata": {},
   "outputs": [
    {
     "name": "stderr",
     "output_type": "stream",
     "text": [
      "/var/folders/p9/k8f841h92px7yw5q25l36bj00000gn/T/ipykernel_15344/1007414117.py:1: SettingWithCopyWarning: \n",
      "A value is trying to be set on a copy of a slice from a DataFrame\n",
      "\n",
      "See the caveats in the documentation: https://pandas.pydata.org/pandas-docs/stable/user_guide/indexing.html#returning-a-view-versus-a-copy\n",
      "  movie_final.drop(['Genre'], axis=1, inplace=True)\n"
     ]
    }
   ],
   "source": [
    "movie_final.drop(['Genre'], axis=1, inplace=True)"
   ]
  },
  {
   "cell_type": "markdown",
   "id": "b765aba4-cb73-4dd1-b5d7-3c257c5b8d37",
   "metadata": {},
   "source": [
    "# Now will check correlation among all the features to decide which we can drop"
   ]
  },
  {
   "cell_type": "code",
   "execution_count": 363,
   "id": "147596c3-7fed-4cb5-a503-274c47deadda",
   "metadata": {},
   "outputs": [
    {
     "data": {
      "image/png": "[encoded data removed]",
      "text/plain": [
       "<Figure size 1200x1000 with 2 Axes>"
      ]
     },
     "metadata": {},
     "output_type": "display_data"
    }
   ],
   "source": [
    "plt.figure(figsize=(12,10))\n",
    "sns.heatmap(movie_final.apply(lambda x: x.factorize()[0]).corr(),annot=True)\n",
    "plt.show()"
   ]
  },
  {
   "cell_type": "code",
   "execution_count": 364,
   "id": "e724886e-7af5-470c-8fc6-3e772bc38365",
   "metadata": {},
   "outputs": [],
   "source": [
    "from sklearn.model_selection import train_test_split\n",
    "from sklearn.linear_model import LinearRegression\n",
    "from sklearn.metrics import mean_absolute_error"
   ]
  },
  {
   "cell_type": "code",
   "execution_count": 411,
   "id": "4a5b8a93-fb61-4230-bc5b-1500057b5f42",
   "metadata": {},
   "outputs": [],
   "source": [
    "# Split data into features and target variable\n",
    "X = movie_final.drop(['Name','Rating','Duration'], axis=1)\n",
    "y = movie_final['Rating']"
   ]
  },
  {
   "cell_type": "code",
   "execution_count": 412,
   "id": "53d956e0-48e7-4167-923a-ff13353eff0b",
   "metadata": {},
   "outputs": [],
   "source": [
    "y=y.dropna()"
   ]
  },
  {
   "cell_type": "code",
   "execution_count": 413,
   "id": "be36b259-2a38-43bc-9197-b00296fc70e2",
   "metadata": {},
   "outputs": [
    {
     "name": "stdout",
     "output_type": "stream",
     "text": [
      "<class 'pandas.core.series.Series'>\n",
      "Index: 5659 entries, 1 to 15508\n",
      "Series name: Rating\n",
      "Non-Null Count  Dtype  \n",
      "--------------  -----  \n",
      "5659 non-null   float64\n",
      "dtypes: float64(1)\n",
      "memory usage: 88.4 KB\n"
     ]
    }
   ],
   "source": [
    "y.info()"
   ]
  },
  {
   "cell_type": "code",
   "execution_count": 385,
   "id": "e88b9c1a-e0e3-4858-b77a-88ea7513f0a4",
   "metadata": {},
   "outputs": [
    {
     "data": {
      "text/html": [
       "<div>\n",
       "<style scoped>\n",
       "    .dataframe tbody tr th:only-of-type {\n",
       "        vertical-align: middle;\n",
       "    }\n",
       "\n",
       "    .dataframe tbody tr th {\n",
       "        vertical-align: top;\n",
       "    }\n",
       "\n",
       "    .dataframe thead th {\n",
       "        text-align: right;\n",
       "    }\n",
       "</style>\n",
       "<table border=\"1\" class=\"dataframe\">\n",
       "  <thead>\n",
       "    <tr style=\"text-align: right;\">\n",
       "      <th></th>\n",
       "      <th>Year</th>\n",
       "      <th>Votes</th>\n",
       "      <th>Director</th>\n",
       "      <th>Actor 1</th>\n",
       "      <th>Actor 2</th>\n",
       "      <th>Actor 3</th>\n",
       "      <th>main_genre</th>\n",
       "    </tr>\n",
       "  </thead>\n",
       "  <tbody>\n",
       "    <tr>\n",
       "      <th>1</th>\n",
       "      <td>2019</td>\n",
       "      <td>8</td>\n",
       "      <td>Gaurav Bakshi</td>\n",
       "      <td>Rasika Dugal</td>\n",
       "      <td>Vivek Ghamande</td>\n",
       "      <td>Arvind Jangid</td>\n",
       "      <td>Drama</td>\n",
       "    </tr>\n",
       "    <tr>\n",
       "      <th>3</th>\n",
       "      <td>2019</td>\n",
       "      <td>35</td>\n",
       "      <td>Ovais Khan</td>\n",
       "      <td>Prateik</td>\n",
       "      <td>Ishita Raj</td>\n",
       "      <td>Siddhant Kapoor</td>\n",
       "      <td>Comedy</td>\n",
       "    </tr>\n",
       "    <tr>\n",
       "      <th>5</th>\n",
       "      <td>1997</td>\n",
       "      <td>827</td>\n",
       "      <td>Rahul Rawail</td>\n",
       "      <td>Bobby Deol</td>\n",
       "      <td>Aishwarya Rai Bachchan</td>\n",
       "      <td>Shammi Kapoor</td>\n",
       "      <td>Comedy</td>\n",
       "    </tr>\n",
       "    <tr>\n",
       "      <th>6</th>\n",
       "      <td>2005</td>\n",
       "      <td>1086</td>\n",
       "      <td>Shoojit Sircar</td>\n",
       "      <td>Jimmy Sheirgill</td>\n",
       "      <td>Minissha Lamba</td>\n",
       "      <td>Yashpal Sharma</td>\n",
       "      <td>Drama</td>\n",
       "    </tr>\n",
       "    <tr>\n",
       "      <th>8</th>\n",
       "      <td>2012</td>\n",
       "      <td>326</td>\n",
       "      <td>Allyson Patel</td>\n",
       "      <td>Yash Dave</td>\n",
       "      <td>Muntazir Ahmad</td>\n",
       "      <td>Kiran Bhatia</td>\n",
       "      <td>Horror</td>\n",
       "    </tr>\n",
       "    <tr>\n",
       "      <th>...</th>\n",
       "      <td>...</td>\n",
       "      <td>...</td>\n",
       "      <td>...</td>\n",
       "      <td>...</td>\n",
       "      <td>...</td>\n",
       "      <td>...</td>\n",
       "      <td>...</td>\n",
       "    </tr>\n",
       "    <tr>\n",
       "      <th>15493</th>\n",
       "      <td>2015</td>\n",
       "      <td>408</td>\n",
       "      <td>Mozez Singh</td>\n",
       "      <td>Vicky Kaushal</td>\n",
       "      <td>Sarah Jane Dias</td>\n",
       "      <td>Raaghavv Chanana</td>\n",
       "      <td>Drama</td>\n",
       "    </tr>\n",
       "    <tr>\n",
       "      <th>15494</th>\n",
       "      <td>2001</td>\n",
       "      <td>1496</td>\n",
       "      <td>Shyam Benegal</td>\n",
       "      <td>Karisma Kapoor</td>\n",
       "      <td>Rekha</td>\n",
       "      <td>Manoj Bajpayee</td>\n",
       "      <td>Biography</td>\n",
       "    </tr>\n",
       "    <tr>\n",
       "      <th>15503</th>\n",
       "      <td>1989</td>\n",
       "      <td>44</td>\n",
       "      <td>S.P. Muthuraman</td>\n",
       "      <td>Chiranjeevi</td>\n",
       "      <td>Jayamalini</td>\n",
       "      <td>Rajinikanth</td>\n",
       "      <td>Action</td>\n",
       "    </tr>\n",
       "    <tr>\n",
       "      <th>15505</th>\n",
       "      <td>1999</td>\n",
       "      <td>655</td>\n",
       "      <td>Kuku Kohli</td>\n",
       "      <td>Akshay Kumar</td>\n",
       "      <td>Twinkle Khanna</td>\n",
       "      <td>Aruna Irani</td>\n",
       "      <td>Action</td>\n",
       "    </tr>\n",
       "    <tr>\n",
       "      <th>15508</th>\n",
       "      <td>1998</td>\n",
       "      <td>20</td>\n",
       "      <td>K.C. Bokadia</td>\n",
       "      <td>Dharmendra</td>\n",
       "      <td>Jaya Prada</td>\n",
       "      <td>Arjun Sarja</td>\n",
       "      <td>Action</td>\n",
       "    </tr>\n",
       "  </tbody>\n",
       "</table>\n",
       "<p>5659 rows × 7 columns</p>\n",
       "</div>"
      ],
      "text/plain": [
       "       Year  Votes         Director          Actor 1                 Actor 2  \\\n",
       "1      2019      8    Gaurav Bakshi     Rasika Dugal          Vivek Ghamande   \n",
       "3      2019     35       Ovais Khan          Prateik              Ishita Raj   \n",
       "5      1997    827     Rahul Rawail       Bobby Deol  Aishwarya Rai Bachchan   \n",
       "6      2005   1086   Shoojit Sircar  Jimmy Sheirgill          Minissha Lamba   \n",
       "8      2012    326    Allyson Patel        Yash Dave          Muntazir Ahmad   \n",
       "...     ...    ...              ...              ...                     ...   \n",
       "15493  2015    408      Mozez Singh    Vicky Kaushal         Sarah Jane Dias   \n",
       "15494  2001   1496    Shyam Benegal   Karisma Kapoor                   Rekha   \n",
       "15503  1989     44  S.P. Muthuraman      Chiranjeevi              Jayamalini   \n",
       "15505  1999    655       Kuku Kohli     Akshay Kumar          Twinkle Khanna   \n",
       "15508  1998     20     K.C. Bokadia       Dharmendra              Jaya Prada   \n",
       "\n",
       "                Actor 3 main_genre  \n",
       "1         Arvind Jangid      Drama  \n",
       "3       Siddhant Kapoor     Comedy  \n",
       "5         Shammi Kapoor     Comedy  \n",
       "6        Yashpal Sharma      Drama  \n",
       "8          Kiran Bhatia     Horror  \n",
       "...                 ...        ...  \n",
       "15493  Raaghavv Chanana      Drama  \n",
       "15494    Manoj Bajpayee  Biography  \n",
       "15503       Rajinikanth     Action  \n",
       "15505       Aruna Irani     Action  \n",
       "15508       Arjun Sarja     Action  \n",
       "\n",
       "[5659 rows x 7 columns]"
      ]
     },
     "execution_count": 385,
     "metadata": {},
     "output_type": "execute_result"
    }
   ],
   "source": [
    "X"
   ]
  },
  {
   "cell_type": "code",
   "execution_count": 386,
   "id": "b212be13-14bf-48ae-af89-4c551caf501f",
   "metadata": {},
   "outputs": [],
   "source": [
    "columns_to_encode = ['Director','Actor 1','Actor 2','Actor 3','main_genre']\n",
    "\n",
    "X_new = pd.get_dummies(X, columns=columns_to_encode)"
   ]
  },
  {
   "cell_type": "code",
   "execution_count": 405,
   "id": "6723e202-0215-4a5e-88e4-64c938970ef1",
   "metadata": {},
   "outputs": [
    {
     "data": {
      "text/html": [
       "<div>\n",
       "<style scoped>\n",
       "    .dataframe tbody tr th:only-of-type {\n",
       "        vertical-align: middle;\n",
       "    }\n",
       "\n",
       "    .dataframe tbody tr th {\n",
       "        vertical-align: top;\n",
       "    }\n",
       "\n",
       "    .dataframe thead th {\n",
       "        text-align: right;\n",
       "    }\n",
       "</style>\n",
       "<table border=\"1\" class=\"dataframe\">\n",
       "  <thead>\n",
       "    <tr style=\"text-align: right;\">\n",
       "      <th></th>\n",
       "      <th>Year</th>\n",
       "      <th>Votes</th>\n",
       "      <th>Director_A. Bhimsingh</th>\n",
       "      <th>Director_A. Jagannathan</th>\n",
       "      <th>Director_A. Majid</th>\n",
       "      <th>Director_A. Muthu</th>\n",
       "      <th>Director_A. Salaam</th>\n",
       "      <th>Director_A. Shamsheer</th>\n",
       "      <th>Director_A. Veerappan</th>\n",
       "      <th>Director_A.C. Trilogchander</th>\n",
       "      <th>...</th>\n",
       "      <th>main_genre_History</th>\n",
       "      <th>main_genre_Horror</th>\n",
       "      <th>main_genre_Music</th>\n",
       "      <th>main_genre_Musical</th>\n",
       "      <th>main_genre_Mystery</th>\n",
       "      <th>main_genre_Romance</th>\n",
       "      <th>main_genre_Sci-Fi</th>\n",
       "      <th>main_genre_Sport</th>\n",
       "      <th>main_genre_Thriller</th>\n",
       "      <th>main_genre_War</th>\n",
       "    </tr>\n",
       "  </thead>\n",
       "  <tbody>\n",
       "    <tr>\n",
       "      <th>count</th>\n",
       "      <td>5659.000000</td>\n",
       "      <td>5659.000000</td>\n",
       "      <td>5659</td>\n",
       "      <td>5659</td>\n",
       "      <td>5659</td>\n",
       "      <td>5659</td>\n",
       "      <td>5659</td>\n",
       "      <td>5659</td>\n",
       "      <td>5659</td>\n",
       "      <td>5659</td>\n",
       "      <td>...</td>\n",
       "      <td>5659</td>\n",
       "      <td>5659</td>\n",
       "      <td>5659</td>\n",
       "      <td>5659</td>\n",
       "      <td>5659</td>\n",
       "      <td>5659</td>\n",
       "      <td>5659</td>\n",
       "      <td>5659</td>\n",
       "      <td>5659</td>\n",
       "      <td>5659</td>\n",
       "    </tr>\n",
       "    <tr>\n",
       "      <th>unique</th>\n",
       "      <td>NaN</td>\n",
       "      <td>NaN</td>\n",
       "      <td>2</td>\n",
       "      <td>2</td>\n",
       "      <td>2</td>\n",
       "      <td>2</td>\n",
       "      <td>2</td>\n",
       "      <td>2</td>\n",
       "      <td>2</td>\n",
       "      <td>2</td>\n",
       "      <td>...</td>\n",
       "      <td>2</td>\n",
       "      <td>2</td>\n",
       "      <td>2</td>\n",
       "      <td>2</td>\n",
       "      <td>2</td>\n",
       "      <td>2</td>\n",
       "      <td>2</td>\n",
       "      <td>2</td>\n",
       "      <td>2</td>\n",
       "      <td>2</td>\n",
       "    </tr>\n",
       "    <tr>\n",
       "      <th>top</th>\n",
       "      <td>NaN</td>\n",
       "      <td>NaN</td>\n",
       "      <td>False</td>\n",
       "      <td>False</td>\n",
       "      <td>False</td>\n",
       "      <td>False</td>\n",
       "      <td>False</td>\n",
       "      <td>False</td>\n",
       "      <td>False</td>\n",
       "      <td>False</td>\n",
       "      <td>...</td>\n",
       "      <td>False</td>\n",
       "      <td>False</td>\n",
       "      <td>False</td>\n",
       "      <td>False</td>\n",
       "      <td>False</td>\n",
       "      <td>False</td>\n",
       "      <td>False</td>\n",
       "      <td>False</td>\n",
       "      <td>False</td>\n",
       "      <td>False</td>\n",
       "    </tr>\n",
       "    <tr>\n",
       "      <th>freq</th>\n",
       "      <td>NaN</td>\n",
       "      <td>NaN</td>\n",
       "      <td>5645</td>\n",
       "      <td>5656</td>\n",
       "      <td>5658</td>\n",
       "      <td>5658</td>\n",
       "      <td>5655</td>\n",
       "      <td>5657</td>\n",
       "      <td>5658</td>\n",
       "      <td>5656</td>\n",
       "      <td>...</td>\n",
       "      <td>5651</td>\n",
       "      <td>5531</td>\n",
       "      <td>5656</td>\n",
       "      <td>5569</td>\n",
       "      <td>5600</td>\n",
       "      <td>5500</td>\n",
       "      <td>5655</td>\n",
       "      <td>5657</td>\n",
       "      <td>5570</td>\n",
       "      <td>5656</td>\n",
       "    </tr>\n",
       "    <tr>\n",
       "      <th>mean</th>\n",
       "      <td>1996.247570</td>\n",
       "      <td>2697.649585</td>\n",
       "      <td>NaN</td>\n",
       "      <td>NaN</td>\n",
       "      <td>NaN</td>\n",
       "      <td>NaN</td>\n",
       "      <td>NaN</td>\n",
       "      <td>NaN</td>\n",
       "      <td>NaN</td>\n",
       "      <td>NaN</td>\n",
       "      <td>...</td>\n",
       "      <td>NaN</td>\n",
       "      <td>NaN</td>\n",
       "      <td>NaN</td>\n",
       "      <td>NaN</td>\n",
       "      <td>NaN</td>\n",
       "      <td>NaN</td>\n",
       "      <td>NaN</td>\n",
       "      <td>NaN</td>\n",
       "      <td>NaN</td>\n",
       "      <td>NaN</td>\n",
       "    </tr>\n",
       "    <tr>\n",
       "      <th>std</th>\n",
       "      <td>19.741839</td>\n",
       "      <td>13651.503584</td>\n",
       "      <td>NaN</td>\n",
       "      <td>NaN</td>\n",
       "      <td>NaN</td>\n",
       "      <td>NaN</td>\n",
       "      <td>NaN</td>\n",
       "      <td>NaN</td>\n",
       "      <td>NaN</td>\n",
       "      <td>NaN</td>\n",
       "      <td>...</td>\n",
       "      <td>NaN</td>\n",
       "      <td>NaN</td>\n",
       "      <td>NaN</td>\n",
       "      <td>NaN</td>\n",
       "      <td>NaN</td>\n",
       "      <td>NaN</td>\n",
       "      <td>NaN</td>\n",
       "      <td>NaN</td>\n",
       "      <td>NaN</td>\n",
       "      <td>NaN</td>\n",
       "    </tr>\n",
       "    <tr>\n",
       "      <th>min</th>\n",
       "      <td>1931.000000</td>\n",
       "      <td>5.000000</td>\n",
       "      <td>NaN</td>\n",
       "      <td>NaN</td>\n",
       "      <td>NaN</td>\n",
       "      <td>NaN</td>\n",
       "      <td>NaN</td>\n",
       "      <td>NaN</td>\n",
       "      <td>NaN</td>\n",
       "      <td>NaN</td>\n",
       "      <td>...</td>\n",
       "      <td>NaN</td>\n",
       "      <td>NaN</td>\n",
       "      <td>NaN</td>\n",
       "      <td>NaN</td>\n",
       "      <td>NaN</td>\n",
       "      <td>NaN</td>\n",
       "      <td>NaN</td>\n",
       "      <td>NaN</td>\n",
       "      <td>NaN</td>\n",
       "      <td>NaN</td>\n",
       "    </tr>\n",
       "    <tr>\n",
       "      <th>25%</th>\n",
       "      <td>1983.000000</td>\n",
       "      <td>30.000000</td>\n",
       "      <td>NaN</td>\n",
       "      <td>NaN</td>\n",
       "      <td>NaN</td>\n",
       "      <td>NaN</td>\n",
       "      <td>NaN</td>\n",
       "      <td>NaN</td>\n",
       "      <td>NaN</td>\n",
       "      <td>NaN</td>\n",
       "      <td>...</td>\n",
       "      <td>NaN</td>\n",
       "      <td>NaN</td>\n",
       "      <td>NaN</td>\n",
       "      <td>NaN</td>\n",
       "      <td>NaN</td>\n",
       "      <td>NaN</td>\n",
       "      <td>NaN</td>\n",
       "      <td>NaN</td>\n",
       "      <td>NaN</td>\n",
       "      <td>NaN</td>\n",
       "    </tr>\n",
       "    <tr>\n",
       "      <th>50%</th>\n",
       "      <td>2002.000000</td>\n",
       "      <td>131.000000</td>\n",
       "      <td>NaN</td>\n",
       "      <td>NaN</td>\n",
       "      <td>NaN</td>\n",
       "      <td>NaN</td>\n",
       "      <td>NaN</td>\n",
       "      <td>NaN</td>\n",
       "      <td>NaN</td>\n",
       "      <td>NaN</td>\n",
       "      <td>...</td>\n",
       "      <td>NaN</td>\n",
       "      <td>NaN</td>\n",
       "      <td>NaN</td>\n",
       "      <td>NaN</td>\n",
       "      <td>NaN</td>\n",
       "      <td>NaN</td>\n",
       "      <td>NaN</td>\n",
       "      <td>NaN</td>\n",
       "      <td>NaN</td>\n",
       "      <td>NaN</td>\n",
       "    </tr>\n",
       "    <tr>\n",
       "      <th>75%</th>\n",
       "      <td>2013.000000</td>\n",
       "      <td>922.500000</td>\n",
       "      <td>NaN</td>\n",
       "      <td>NaN</td>\n",
       "      <td>NaN</td>\n",
       "      <td>NaN</td>\n",
       "      <td>NaN</td>\n",
       "      <td>NaN</td>\n",
       "      <td>NaN</td>\n",
       "      <td>NaN</td>\n",
       "      <td>...</td>\n",
       "      <td>NaN</td>\n",
       "      <td>NaN</td>\n",
       "      <td>NaN</td>\n",
       "      <td>NaN</td>\n",
       "      <td>NaN</td>\n",
       "      <td>NaN</td>\n",
       "      <td>NaN</td>\n",
       "      <td>NaN</td>\n",
       "      <td>NaN</td>\n",
       "      <td>NaN</td>\n",
       "    </tr>\n",
       "    <tr>\n",
       "      <th>max</th>\n",
       "      <td>2021.000000</td>\n",
       "      <td>591417.000000</td>\n",
       "      <td>NaN</td>\n",
       "      <td>NaN</td>\n",
       "      <td>NaN</td>\n",
       "      <td>NaN</td>\n",
       "      <td>NaN</td>\n",
       "      <td>NaN</td>\n",
       "      <td>NaN</td>\n",
       "      <td>NaN</td>\n",
       "      <td>...</td>\n",
       "      <td>NaN</td>\n",
       "      <td>NaN</td>\n",
       "      <td>NaN</td>\n",
       "      <td>NaN</td>\n",
       "      <td>NaN</td>\n",
       "      <td>NaN</td>\n",
       "      <td>NaN</td>\n",
       "      <td>NaN</td>\n",
       "      <td>NaN</td>\n",
       "      <td>NaN</td>\n",
       "    </tr>\n",
       "  </tbody>\n",
       "</table>\n",
       "<p>11 rows × 9290 columns</p>\n",
       "</div>"
      ],
      "text/plain": [
       "               Year          Votes Director_A. Bhimsingh  \\\n",
       "count   5659.000000    5659.000000                  5659   \n",
       "unique          NaN            NaN                     2   \n",
       "top             NaN            NaN                 False   \n",
       "freq            NaN            NaN                  5645   \n",
       "mean    1996.247570    2697.649585                   NaN   \n",
       "std       19.741839   13651.503584                   NaN   \n",
       "min     1931.000000       5.000000                   NaN   \n",
       "25%     1983.000000      30.000000                   NaN   \n",
       "50%     2002.000000     131.000000                   NaN   \n",
       "75%     2013.000000     922.500000                   NaN   \n",
       "max     2021.000000  591417.000000                   NaN   \n",
       "\n",
       "       Director_A. Jagannathan Director_A. Majid Director_A. Muthu  \\\n",
       "count                     5659              5659              5659   \n",
       "unique                       2                 2                 2   \n",
       "top                      False             False             False   \n",
       "freq                      5656              5658              5658   \n",
       "mean                       NaN               NaN               NaN   \n",
       "std                        NaN               NaN               NaN   \n",
       "min                        NaN               NaN               NaN   \n",
       "25%                        NaN               NaN               NaN   \n",
       "50%                        NaN               NaN               NaN   \n",
       "75%                        NaN               NaN               NaN   \n",
       "max                        NaN               NaN               NaN   \n",
       "\n",
       "       Director_A. Salaam Director_A. Shamsheer Director_A. Veerappan  \\\n",
       "count                5659                  5659                  5659   \n",
       "unique                  2                     2                     2   \n",
       "top                 False                 False                 False   \n",
       "freq                 5655                  5657                  5658   \n",
       "mean                  NaN                   NaN                   NaN   \n",
       "std                   NaN                   NaN                   NaN   \n",
       "min                   NaN                   NaN                   NaN   \n",
       "25%                   NaN                   NaN                   NaN   \n",
       "50%                   NaN                   NaN                   NaN   \n",
       "75%                   NaN                   NaN                   NaN   \n",
       "max                   NaN                   NaN                   NaN   \n",
       "\n",
       "       Director_A.C. Trilogchander  ... main_genre_History main_genre_Horror  \\\n",
       "count                         5659  ...               5659              5659   \n",
       "unique                           2  ...                  2                 2   \n",
       "top                          False  ...              False             False   \n",
       "freq                          5656  ...               5651              5531   \n",
       "mean                           NaN  ...                NaN               NaN   \n",
       "std                            NaN  ...                NaN               NaN   \n",
       "min                            NaN  ...                NaN               NaN   \n",
       "25%                            NaN  ...                NaN               NaN   \n",
       "50%                            NaN  ...                NaN               NaN   \n",
       "75%                            NaN  ...                NaN               NaN   \n",
       "max                            NaN  ...                NaN               NaN   \n",
       "\n",
       "       main_genre_Music main_genre_Musical main_genre_Mystery  \\\n",
       "count              5659               5659               5659   \n",
       "unique                2                  2                  2   \n",
       "top               False              False              False   \n",
       "freq               5656               5569               5600   \n",
       "mean                NaN                NaN                NaN   \n",
       "std                 NaN                NaN                NaN   \n",
       "min                 NaN                NaN                NaN   \n",
       "25%                 NaN                NaN                NaN   \n",
       "50%                 NaN                NaN                NaN   \n",
       "75%                 NaN                NaN                NaN   \n",
       "max                 NaN                NaN                NaN   \n",
       "\n",
       "       main_genre_Romance main_genre_Sci-Fi main_genre_Sport  \\\n",
       "count                5659              5659             5659   \n",
       "unique                  2                 2                2   \n",
       "top                 False             False            False   \n",
       "freq                 5500              5655             5657   \n",
       "mean                  NaN               NaN              NaN   \n",
       "std                   NaN               NaN              NaN   \n",
       "min                   NaN               NaN              NaN   \n",
       "25%                   NaN               NaN              NaN   \n",
       "50%                   NaN               NaN              NaN   \n",
       "75%                   NaN               NaN              NaN   \n",
       "max                   NaN               NaN              NaN   \n",
       "\n",
       "       main_genre_Thriller main_genre_War  \n",
       "count                 5659           5659  \n",
       "unique                   2              2  \n",
       "top                  False          False  \n",
       "freq                  5570           5656  \n",
       "mean                   NaN            NaN  \n",
       "std                    NaN            NaN  \n",
       "min                    NaN            NaN  \n",
       "25%                    NaN            NaN  \n",
       "50%                    NaN            NaN  \n",
       "75%                    NaN            NaN  \n",
       "max                    NaN            NaN  \n",
       "\n",
       "[11 rows x 9290 columns]"
      ]
     },
     "execution_count": 405,
     "metadata": {},
     "output_type": "execute_result"
    }
   ],
   "source": [
    "X_new.describe(include=all)"
   ]
  },
  {
   "cell_type": "code",
   "execution_count": 407,
   "id": "12ed116a-2afe-4587-a524-b94545b921de",
   "metadata": {},
   "outputs": [
    {
     "name": "stdout",
     "output_type": "stream",
     "text": [
      "<class 'pandas.core.frame.DataFrame'>\n",
      "Index: 5659 entries, 1 to 15508\n",
      "Columns: 9290 entries, Year to main_genre_War\n",
      "dtypes: bool(9288), int32(1), int64(1)\n",
      "memory usage: 50.2 MB\n"
     ]
    }
   ],
   "source": [
    "X_new.info()"
   ]
  },
  {
   "cell_type": "code",
   "execution_count": 408,
   "id": "4ebb1771-1aeb-45ce-847a-cf9e6d6548cb",
   "metadata": {},
   "outputs": [],
   "source": [
    "X_new=X_new.dropna()"
   ]
  },
  {
   "cell_type": "code",
   "execution_count": 381,
   "id": "30e5b8cd-fc57-448b-ac8d-60a450ff8c72",
   "metadata": {},
   "outputs": [],
   "source": [
    "from sklearn.feature_selection import SelectKBest, f_classif"
   ]
  },
  {
   "cell_type": "markdown",
   "id": "4c23687f-e3f0-42fd-9509-c92fb2723d08",
   "metadata": {},
   "source": [
    "# Will select top k features based on ANOVA F-statistic because hot encoding resulted in high dimension data"
   ]
  },
  {
   "cell_type": "code",
   "execution_count": 414,
   "id": "99b34eee-c21a-4f43-9f6d-48a3a117333e",
   "metadata": {},
   "outputs": [
    {
     "name": "stderr",
     "output_type": "stream",
     "text": [
      "/Users/umair/miniconda3/lib/python3.10/site-packages/sklearn/feature_selection/_univariate_selection.py:113: RuntimeWarning: divide by zero encountered in divide\n",
      "  f = msb / msw\n"
     ]
    }
   ],
   "source": [
    "selector = SelectKBest(score_func=f_classif, k=5)\n",
    "X_new1 = selector.fit_transform(X_new, y)"
   ]
  },
  {
   "cell_type": "markdown",
   "id": "3e3cfac3-80f6-447f-9715-fb47ce24bf06",
   "metadata": {},
   "source": [
    "## keeping the most significant features only to lower the dimensionality of data"
   ]
  },
  {
   "cell_type": "code",
   "execution_count": 415,
   "id": "1233ab31-d825-434b-ac29-884575f794d0",
   "metadata": {},
   "outputs": [],
   "source": [
    "from sklearn.decomposition import PCA"
   ]
  },
  {
   "cell_type": "code",
   "execution_count": 504,
   "id": "362f1539-fa99-4ba2-8c00-eec2865eabf8",
   "metadata": {},
   "outputs": [],
   "source": [
    "pca = PCA(n_components=5)  # Set the number of components you want to keep\n",
    "X_pca = pca.fit_transform(X_new1)"
   ]
  },
  {
   "cell_type": "code",
   "execution_count": 505,
   "id": "1962febf-3659-4cda-a4a3-54d58667b52a",
   "metadata": {},
   "outputs": [
    {
     "data": {
      "text/plain": [
       "array([[-3.05961901e-04, -2.50037688e-04, -6.31391503e-17,\n",
       "         1.04101367e-13, -5.14872625e-35],\n",
       "       [-3.05961901e-04, -2.50037688e-04, -2.31075174e-17,\n",
       "        -1.49964693e-20,  1.37013847e-26],\n",
       "       [-3.05961901e-04, -2.50037688e-04,  1.30752374e-13,\n",
       "         5.02631125e-17,  2.42055349e-30],\n",
       "       ...,\n",
       "       [-3.05961901e-04, -2.50037688e-04, -6.64140670e-21,\n",
       "        -6.11508486e-21, -1.06929469e-33],\n",
       "       [-3.05961901e-04, -2.50037688e-04, -6.64140670e-21,\n",
       "        -6.11508486e-21, -1.06929469e-33],\n",
       "       [-3.05961901e-04, -2.50037688e-04, -6.64140670e-21,\n",
       "        -6.11508486e-21, -1.06929469e-33]])"
      ]
     },
     "execution_count": 505,
     "metadata": {},
     "output_type": "execute_result"
    }
   ],
   "source": [
    "X_pca"
   ]
  },
  {
   "cell_type": "code",
   "execution_count": 506,
   "id": "d226589a-d727-4581-815a-841182a980d7",
   "metadata": {},
   "outputs": [],
   "source": [
    "from sklearn.model_selection import train_test_split\n",
    "from sklearn.linear_model import LinearRegression\n",
    "from sklearn.metrics import mean_absolute_error"
   ]
  },
  {
   "cell_type": "code",
   "execution_count": 536,
   "id": "512b742a-ab24-4cbd-bef1-869155e3672e",
   "metadata": {},
   "outputs": [],
   "source": [
    "# Split data into training and testing sets\n",
    "X_train, X_test, y_train, y_test = train_test_split(X_pca, y, test_size=0.50, random_state=42)"
   ]
  },
  {
   "cell_type": "code",
   "execution_count": 537,
   "id": "4f0131d1-4a0f-413c-985c-47ec2d04521e",
   "metadata": {},
   "outputs": [
    {
     "data": {
      "text/html": [
       "<style>#sk-container-id-23 {color: black;}#sk-container-id-23 pre{padding: 0;}#sk-container-id-23 div.sk-toggleable {background-color: white;}#sk-container-id-23 label.sk-toggleable__label {cursor: pointer;display: block;width: 100%;margin-bottom: 0;padding: 0.3em;box-sizing: border-box;text-align: center;}#sk-container-id-23 label.sk-toggleable__label-arrow:before {content: \"▸\";float: left;margin-right: 0.25em;color: #696969;}#sk-container-id-23 label.sk-toggleable__label-arrow:hover:before {color: black;}#sk-container-id-23 div.sk-estimator:hover label.sk-toggleable__label-arrow:before {color: black;}#sk-container-id-23 div.sk-toggleable__content {max-height: 0;max-width: 0;overflow: hidden;text-align: left;background-color: #f0f8ff;}#sk-container-id-23 div.sk-toggleable__content pre {margin: 0.2em;color: black;border-radius: 0.25em;background-color: #f0f8ff;}#sk-container-id-23 input.sk-toggleable__control:checked~div.sk-toggleable__content {max-height: 200px;max-width: 100%;overflow: auto;}#sk-container-id-23 input.sk-toggleable__control:checked~label.sk-toggleable__label-arrow:before {content: \"▾\";}#sk-container-id-23 div.sk-estimator input.sk-toggleable__control:checked~label.sk-toggleable__label {background-color: #d4ebff;}#sk-container-id-23 div.sk-label input.sk-toggleable__control:checked~label.sk-toggleable__label {background-color: #d4ebff;}#sk-container-id-23 input.sk-hidden--visually {border: 0;clip: rect(1px 1px 1px 1px);clip: rect(1px, 1px, 1px, 1px);height: 1px;margin: -1px;overflow: hidden;padding: 0;position: absolute;width: 1px;}#sk-container-id-23 div.sk-estimator {font-family: monospace;background-color: #f0f8ff;border: 1px dotted black;border-radius: 0.25em;box-sizing: border-box;margin-bottom: 0.5em;}#sk-container-id-23 div.sk-estimator:hover {background-color: #d4ebff;}#sk-container-id-23 div.sk-parallel-item::after {content: \"\";width: 100%;border-bottom: 1px solid gray;flex-grow: 1;}#sk-container-id-23 div.sk-label:hover label.sk-toggleable__label {background-color: #d4ebff;}#sk-container-id-23 div.sk-serial::before {content: \"\";position: absolute;border-left: 1px solid gray;box-sizing: border-box;top: 0;bottom: 0;left: 50%;z-index: 0;}#sk-container-id-23 div.sk-serial {display: flex;flex-direction: column;align-items: center;background-color: white;padding-right: 0.2em;padding-left: 0.2em;position: relative;}#sk-container-id-23 div.sk-item {position: relative;z-index: 1;}#sk-container-id-23 div.sk-parallel {display: flex;align-items: stretch;justify-content: center;background-color: white;position: relative;}#sk-container-id-23 div.sk-item::before, #sk-container-id-23 div.sk-parallel-item::before {content: \"\";position: absolute;border-left: 1px solid gray;box-sizing: border-box;top: 0;bottom: 0;left: 50%;z-index: -1;}#sk-container-id-23 div.sk-parallel-item {display: flex;flex-direction: column;z-index: 1;position: relative;background-color: white;}#sk-container-id-23 div.sk-parallel-item:first-child::after {align-self: flex-end;width: 50%;}#sk-container-id-23 div.sk-parallel-item:last-child::after {align-self: flex-start;width: 50%;}#sk-container-id-23 div.sk-parallel-item:only-child::after {width: 0;}#sk-container-id-23 div.sk-dashed-wrapped {border: 1px dashed gray;margin: 0 0.4em 0.5em 0.4em;box-sizing: border-box;padding-bottom: 0.4em;background-color: white;}#sk-container-id-23 div.sk-label label {font-family: monospace;font-weight: bold;display: inline-block;line-height: 1.2em;}#sk-container-id-23 div.sk-label-container {text-align: center;}#sk-container-id-23 div.sk-container {/* jupyter's `normalize.less` sets `[hidden] { display: none; }` but bootstrap.min.css set `[hidden] { display: none !important; }` so we also need the `!important` here to be able to override the default hidden behavior on the sphinx rendered scikit-learn.org. See: https://github.com/scikit-learn/scikit-learn/issues/21755 */display: inline-block !important;position: relative;}#sk-container-id-23 div.sk-text-repr-fallback {display: none;}</style><div id=\"sk-container-id-23\" class=\"sk-top-container\"><div class=\"sk-text-repr-fallback\"><pre>LinearRegression()</pre><b>In a Jupyter environment, please rerun this cell to show the HTML representation or trust the notebook. <br />On GitHub, the HTML representation is unable to render, please try loading this page with nbviewer.org.</b></div><div class=\"sk-container\" hidden><div class=\"sk-item\"><div class=\"sk-estimator sk-toggleable\"><input class=\"sk-toggleable__control sk-hidden--visually\" id=\"sk-estimator-id-23\" type=\"checkbox\" checked><label for=\"sk-estimator-id-23\" class=\"sk-toggleable__label sk-toggleable__label-arrow\">LinearRegression</label><div class=\"sk-toggleable__content\"><pre>LinearRegression()</pre></div></div></div></div></div>"
      ],
      "text/plain": [
       "LinearRegression()"
      ]
     },
     "execution_count": 537,
     "metadata": {},
     "output_type": "execute_result"
    }
   ],
   "source": [
    "# Create and train a linear regression model\n",
    "model = LinearRegression()\n",
    "model.fit(X_train, y_train)"
   ]
  },
  {
   "cell_type": "code",
   "execution_count": 538,
   "id": "32792965-0948-4336-9768-3af433b4bcb7",
   "metadata": {},
   "outputs": [],
   "source": [
    "# Make predictions\n",
    "y_pred = model.predict(X_test)"
   ]
  },
  {
   "cell_type": "code",
   "execution_count": 539,
   "id": "5ad8344a-8126-40ee-9338-8e9ba312c171",
   "metadata": {},
   "outputs": [
    {
     "name": "stdout",
     "output_type": "stream",
     "text": [
      "Mean Absolute Error: 1.0920472794280809\n"
     ]
    }
   ],
   "source": [
    "# Evaluate the model\n",
    "mae = mean_absolute_error(y_test, y_pred)\n",
    "print(f'Mean Absolute Error: {mae}')"
   ]
  },
  {
   "cell_type": "code",
   "execution_count": 443,
   "id": "11784ca6-d68c-48c1-9e02-b5f9ca012539",
   "metadata": {},
   "outputs": [],
   "source": [
    "from sklearn.linear_model import Lasso\n",
    "from sklearn.model_selection import train_test_split\n",
    "from sklearn.metrics import mean_squared_error"
   ]
  },
  {
   "cell_type": "code",
   "execution_count": 453,
   "id": "94748c03-1178-4c24-8be9-9fd39a6fc2c5",
   "metadata": {},
   "outputs": [],
   "source": [
    "# Split the data into training and testing sets\n",
    "X_train, X_test, y_train, y_test = train_test_split(X_pca, y, test_size=0.50, random_state=42)"
   ]
  },
  {
   "cell_type": "code",
   "execution_count": 482,
   "id": "1d06c9d4-0e9c-4cbb-b19e-bb2433bdd0df",
   "metadata": {},
   "outputs": [],
   "source": [
    "# Create a Lasso regression model\n",
    "lasso_model = Lasso(alpha=0.0003r2 = r2_score(actual_values, predicted_values)\n",
    "print(\"R-squared score:\", r2))  # You can adjust the alpha parameter"
   ]
  },
  {
   "cell_type": "code",
   "execution_count": 483,
   "id": "c3f5e6f1-b0ab-46a3-9f65-69225c1964b7",
   "metadata": {},
   "outputs": [
    {
     "data": {
      "text/html": [
       "<style>#sk-container-id-14 {color: black;}#sk-container-id-14 pre{padding: 0;}#sk-container-id-14 div.sk-toggleable {background-color: white;}#sk-container-id-14 label.sk-toggleable__label {cursor: pointer;display: block;width: 100%;margin-bottom: 0;padding: 0.3em;box-sizing: border-box;text-align: center;}#sk-container-id-14 label.sk-toggleable__label-arrow:before {content: \"▸\";float: left;margin-right: 0.25em;color: #696969;}#sk-container-id-14 label.sk-toggleable__label-arrow:hover:before {color: black;}#sk-container-id-14 div.sk-estimator:hover label.sk-toggleable__label-arrow:before {color: black;}#sk-container-id-14 div.sk-toggleable__content {max-height: 0;max-width: 0;overflow: hidden;text-align: left;background-color: #f0f8ff;}#sk-container-id-14 div.sk-toggleable__content pre {margin: 0.2em;color: black;border-radius: 0.25em;background-color: #f0f8ff;}#sk-container-id-14 input.sk-toggleable__control:checked~div.sk-toggleable__content {max-height: 200px;max-width: 100%;overflow: auto;}#sk-container-id-14 input.sk-toggleable__control:checked~label.sk-toggleable__label-arrow:before {content: \"▾\";}#sk-container-id-14 div.sk-estimator input.sk-toggleable__control:checked~label.sk-toggleable__label {background-color: #d4ebff;}#sk-container-id-14 div.sk-label input.sk-toggleable__control:checked~label.sk-toggleable__label {background-color: #d4ebff;}#sk-container-id-14 input.sk-hidden--visually {border: 0;clip: rect(1px 1px 1px 1px);clip: rect(1px, 1px, 1px, 1px);height: 1px;margin: -1px;overflow: hidden;padding: 0;position: absolute;width: 1px;}#sk-container-id-14 div.sk-estimator {font-family: monospace;background-color: #f0f8ff;border: 1px dotted black;border-radius: 0.25em;box-sizing: border-box;margin-bottom: 0.5em;}#sk-container-id-14 div.sk-estimator:hover {background-color: #d4ebff;}#sk-container-id-14 div.sk-parallel-item::after {content: \"\";width: 100%;border-bottom: 1px solid gray;flex-grow: 1;}#sk-container-id-14 div.sk-label:hover label.sk-toggleable__label {background-color: #d4ebff;}#sk-container-id-14 div.sk-serial::before {content: \"\";position: absolute;border-left: 1px solid gray;box-sizing: border-box;top: 0;bottom: 0;left: 50%;z-index: 0;}#sk-container-id-14 div.sk-serial {display: flex;flex-direction: column;align-items: center;background-color: white;padding-right: 0.2em;padding-left: 0.2em;position: relative;}#sk-container-id-14 div.sk-item {position: relative;z-index: 1;}#sk-container-id-14 div.sk-parallel {display: flex;align-items: stretch;justify-content: center;background-color: white;position: relative;}#sk-container-id-14 div.sk-item::before, #sk-container-id-14 div.sk-parallel-item::before {content: \"\";position: absolute;border-left: 1px solid gray;box-sizing: border-box;top: 0;bottom: 0;left: 50%;z-index: -1;}#sk-container-id-14 div.sk-parallel-item {display: flex;flex-direction: column;z-index: 1;position: relative;background-color: white;}#sk-container-id-14 div.sk-parallel-item:first-child::after {align-self: flex-end;width: 50%;}#sk-container-id-14 div.sk-parallel-item:last-child::after {align-self: flex-start;width: 50%;}#sk-container-id-14 div.sk-parallel-item:only-child::after {width: 0;}#sk-container-id-14 div.sk-dashed-wrapped {border: 1px dashed gray;margin: 0 0.4em 0.5em 0.4em;box-sizing: border-box;padding-bottom: 0.4em;background-color: white;}#sk-container-id-14 div.sk-label label {font-family: monospace;font-weight: bold;display: inline-block;line-height: 1.2em;}#sk-container-id-14 div.sk-label-container {text-align: center;}#sk-container-id-14 div.sk-container {/* jupyter's `normalize.less` sets `[hidden] { display: none; }` but bootstrap.min.css set `[hidden] { display: none !important; }` so we also need the `!important` here to be able to override the default hidden behavior on the sphinx rendered scikit-learn.org. See: https://github.com/scikit-learn/scikit-learn/issues/21755 */display: inline-block !important;position: relative;}#sk-container-id-14 div.sk-text-repr-fallback {display: none;}</style><div id=\"sk-container-id-14\" class=\"sk-top-container\"><div class=\"sk-text-repr-fallback\"><pre>Lasso(alpha=0.0003)</pre><b>In a Jupyter environment, please rerun this cell to show the HTML representation or trust the notebook. <br />On GitHub, the HTML representation is unable to render, please try loading this page with nbviewer.org.</b></div><div class=\"sk-container\" hidden><div class=\"sk-item\"><div class=\"sk-estimator sk-toggleable\"><input class=\"sk-toggleable__control sk-hidden--visually\" id=\"sk-estimator-id-14\" type=\"checkbox\" checked><label for=\"sk-estimator-id-14\" class=\"sk-toggleable__label sk-toggleable__label-arrow\">Lasso</label><div class=\"sk-toggleable__content\"><pre>Lasso(alpha=0.0003)</pre></div></div></div></div></div>"
      ],
      "text/plain": [
       "Lasso(alpha=0.0003)"
      ]
     },
     "execution_count": 483,
     "metadata": {},
     "output_type": "execute_result"
    }
   ],
   "source": [
    "# Train the model\n",
    "lasso_model.fit(X_train, y_train)"
   ]
  },
  {
   "cell_type": "code",
   "execution_count": 484,
   "id": "c6d74b6e-b421-4275-bfdc-7ded2b54cbb7",
   "metadata": {},
   "outputs": [],
   "source": [
    "# Make predictions\n",
    "y_pred = lasso_model.predict(X_test)"
   ]
  },
  {
   "cell_type": "code",
   "execution_count": 485,
   "id": "7b2e30c3-3455-42d7-85d2-0059de0f18a2",
   "metadata": {},
   "outputs": [
    {
     "name": "stdout",
     "output_type": "stream",
     "text": [
      "Mean Absolute Error: 1.0920497959231592\n"
     ]
    }
   ],
   "source": [
    "# Evaluate the model\n",
    "mae = mean_absolute_error(y_test, y_pred)\n",
    "print(\"Mean Absolute Error:\", mae)"
   ]
  },
  {
   "cell_type": "code",
   "execution_count": 486,
   "id": "d996174a-f469-435e-b20c-0cea2b1920ef",
   "metadata": {},
   "outputs": [
    {
     "name": "stdout",
     "output_type": "stream",
     "text": [
      "train dataset mean squared error: 1.8067148325652862\n"
     ]
    }
   ],
   "source": [
    "print('train dataset mean squared error:', mean_squared_error(y_test, y_pred))"
   ]
  },
  {
   "cell_type": "code",
   "execution_count": null,
   "id": "07e7da98-3865-499f-9d0a-d159fb499797",
   "metadata": {},
   "outputs": [],
   "source": []
  }
 ],
 "metadata": {
  "kernelspec": {
   "display_name": "Python 3 (ipykernel)",
   "language": "python",
   "name": "python3"
  },
  "language_info": {
   "codemirror_mode": {
    "name": "ipython",
    "version": 3
   },
   "file_extension": ".py",
   "mimetype": "text/x-python",
   "name": "python",
   "nbconvert_exporter": "python",
   "pygments_lexer": "ipython3",
   "version": "3.10.10"
  }
 },
 "nbformat": 4,
 "nbformat_minor": 5
}
